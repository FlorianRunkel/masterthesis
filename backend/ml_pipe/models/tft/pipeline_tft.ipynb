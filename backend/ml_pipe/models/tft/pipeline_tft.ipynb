{
 "cells": [
  {
   "cell_type": "markdown",
   "metadata": {},
   "source": [
    "### TFT PIPELINE"
   ]
  },
  {
   "cell_type": "code",
   "execution_count": 1,
   "metadata": {},
   "outputs": [
    {
     "name": "stderr",
     "output_type": "stream",
     "text": [
      "/Library/Frameworks/Python.framework/Versions/3.12/lib/python3.12/site-packages/tqdm/auto.py:21: TqdmWarning: IProgress not found. Please update jupyter and ipywidgets. See https://ipywidgets.readthedocs.io/en/stable/user_install.html\n",
      "  from .autonotebook import tqdm as notebook_tqdm\n"
     ]
    }
   ],
   "source": [
    "import sys\n",
    "sys.path.insert(0, '/Users/florianrunkel/Documents/02_Uni/04_Masterarbeit/masterthesis/')\n",
    "\n",
    "from backend.ml_pipe.data.dataModule.tft.dataModule import DataModule"
   ]
  },
  {
   "cell_type": "code",
   "execution_count": 2,
   "metadata": {},
   "outputs": [],
   "source": [
    "from backend.ml_pipe.data.database.mongodb import MongoDb\n",
    "import pandas as pd\n",
    "import matplotlib.pyplot as plt\n",
    "\n",
    "def load_and_filter_labels_from_mongodb(\n",
    "    user=\"florianrunkel\",\n",
    "    password=\"ur04mathesis\",\n",
    "    db_name=\"Database\",\n",
    "    collection=\"timeseries_dataset\",\n",
    "    top_n_remove=5,\n",
    "    show_plot=True\n",
    "):\n",
    "    # 1. Daten laden\n",
    "    mongo_client = MongoDb(user=user, password=password, db_name=db_name)\n",
    "    result = mongo_client.get_all(collection)\n",
    "    raw_data = result.get('data', [])\n",
    "    df = pd.DataFrame(raw_data)\n",
    "\n",
    "    # 2. Label bereinigen\n",
    "    df[\"label\"] = pd.to_numeric(df[\"label\"], errors=\"coerce\")\n",
    "    df = df[df[\"label\"].notna()]\n",
    "    df = df[df[\"label\"] > 0]\n",
    "\n",
    "    # 3. Häufigste Labels identifizieren\n",
    "    top_labels = df[\"label\"].value_counts().nlargest(5).index.tolist()\n",
    "    print(\"Häufigste Labels (werden gefiltert):\", top_labels)\n",
    "\n",
    "    # 5. Plot (optional)\n",
    "    if show_plot:\n",
    "        plt.figure(figsize=(10, 6))\n",
    "        plt.hist(df[\"label\"], bins=50)\n",
    "        plt.title(\"Verteilung der Labels (gefiltert)\")\n",
    "        plt.xlabel(\"label (Tage)\")\n",
    "        plt.ylabel(\"Anzahl\")\n",
    "        plt.grid(True)\n",
    "        plt.tight_layout()\n",
    "        plt.show()\n",
    "\n",
    "    # 6. Zusammenfassung\n",
    "    print(f\"Datensätze nach Filterung: {len(df)}\")\n",
    "    print(f\"Minimales Label: {df['label'].min()}\")\n",
    "    print(f\"Maximales Label: {df['label'].max()}\")\n",
    "    print(f\"Durchschnittliches Label: {df['label'].mean():.2f}\")\n",
    "\n",
    "    return df"
   ]
  },
  {
   "cell_type": "code",
   "execution_count": 3,
   "metadata": {},
   "outputs": [],
   "source": [
    "from lightning.pytorch.callbacks import Callback\n",
    "\n",
    "class PrintLossCallback(Callback):\n",
    "    def on_train_epoch_end(self, trainer, pl_module):\n",
    "        loss = trainer.callback_metrics.get(\"train_loss\")\n",
    "        if loss is not None:\n",
    "            print(f\"Train Loss (Epoch {trainer.current_epoch}): {loss:.4f}\")\n",
    "\n",
    "    def on_validation_epoch_end(self, trainer, pl_module):\n",
    "        loss = trainer.callback_metrics.get(\"val_loss\")\n",
    "        if loss is not None:\n",
    "            print(f\"Val Loss (Epoch {trainer.current_epoch}): {loss:.4f}\")\n"
   ]
  },
  {
   "cell_type": "code",
   "execution_count": 4,
   "metadata": {},
   "outputs": [
    {
     "name": "stdout",
     "output_type": "stream",
     "text": [
      "Start optimized TFT pipeline...\n",
      "Load data from MongoDB...\n",
      "Häufigste Labels (werden gefiltert): [46, 16, 92, 31, 183]\n"
     ]
    },
    {
     "data": {
      "image/png": "[encoded data removed]",
      "text/plain": [
       "<Figure size 1000x600 with 1 Axes>"
      ]
     },
     "metadata": {},
     "output_type": "display_data"
    },
    {
     "name": "stderr",
     "output_type": "stream",
     "text": [
      "INFO:root:Setting up TFT DataModule with extended features...\n"
     ]
    },
    {
     "name": "stdout",
     "output_type": "stream",
     "text": [
      "Datensätze nach Filterung: 191828\n",
      "Minimales Label: 3\n",
      "Maximales Label: 12624\n",
      "Durchschnittliches Label: 295.60\n"
     ]
    },
    {
     "name": "stderr",
     "output_type": "stream",
     "text": [
      "INFO:root:Number of documents: 191828\n"
     ]
    },
    {
     "name": "stdout",
     "output_type": "stream",
     "text": [
      "DEBUG - Profile 0, Time 0:\n",
      "  Features (erste 10): [981.0, 1.0, 2.0, 700.0, 2.0, 1.0, 7.0, 180.0, 0.0, 6.0]\n",
      "  Label: 168.0\n",
      "  Position: Working Student\n",
      "  Feature-Summe: 1884.2076836824417\n",
      "DEBUG - Profile 0, Time 1:\n",
      "  Features (erste 10): [1019.0, 1.0, 2.0, 700.0, 2.0, 1.0, 7.0, 180.0, 0.0, 2.0]\n",
      "  Label: 168.0\n",
      "  Position: Working Student\n",
      "  Feature-Summe: 2627.3863815814257\n",
      "DEBUG - Profile 0, Time 2:\n",
      "  Features (erste 10): [1057.0, 1.0, 2.0, 700.0, 2.0, 1.0, 7.0, 180.0, 0.0, 5.0]\n",
      "  Label: 168.0\n",
      "  Position: Working Student\n",
      "  Feature-Summe: 2666.802551165223\n",
      "DEBUG - Profile 0, Time 3:\n",
      "  Features (erste 10): [1080.0, 1.0, 2.0, 700.0, 2.0, 1.0, 7.0, 180.0, 0.0, 0.0]\n",
      "  Label: 168.0\n",
      "  Position: Working Student\n",
      "  Feature-Summe: 2687.633974611759\n",
      "DEBUG - Profile 0, Time 4:\n",
      "  Features (erste 10): [1157.0, 2.0, 3.0, 426.5, 2.0, 1.0, 7.0, 180.0, 0.0, 0.0]\n",
      "  Label: 168.0\n",
      "  Position: Intern\n",
      "  Feature-Summe: 2497.133974611759\n",
      "DEBUG - Filterung:\n",
      "  Gesamte Zeilen: 191828\n",
      "  Gefilterte Zeilen (alle Features = 0): 0\n",
      "  Verbleibende Zeilen: 191828\n",
      "DataFrame Shape: (191828, 27)\n",
      "Anzahl Profile: 8401\n",
      "Feature Spalten: ['feature_0', 'feature_1', 'feature_2', 'feature_3', 'feature_4', 'feature_5', 'feature_6', 'feature_7', 'feature_8', 'feature_9', 'feature_10', 'feature_11', 'feature_12', 'feature_13', 'feature_14', 'feature_15', 'feature_16', 'feature_17', 'feature_18', 'feature_19', 'feature_20', 'feature_21', 'feature_22']\n",
      "  berufserfahrung_tage (feature_0): min=7.00, max=37697.00, mean=3348.18\n",
      "  anzahl_wechsel_bisher (feature_1): min=0.00, max=30.00, mean=4.10\n",
      "  anzahl_jobs_bisher (feature_2): min=1.00, max=31.00, mean=5.39\n",
      "  durchschnittsdauer_jobs (feature_3): min=0.00, max=12236.00, mean=673.70\n",
      "  age_category (feature_4): min=1.00, max=5.00, mean=3.30\n",
      "  Position-ID values: [0.0, 46.0, 59.0, 14697.0, 14698.0, 14699.0, 14700.0, 14702.0, 14703.0, 14705.0, 14706.0, 14707.0, 14708.0, 14714.0, 14717.0, 14719.0, 14727.0, 14730.0, 14734.0, 14736.0, 14737.0, 14738.0, 14740.0, 14741.0, 14750.0, 14753.0, 14755.0, 14756.0, 14758.0]\n",
      "  Number of unique position IDs: 29\n",
      "  Position-ID min: 0.0\n",
      "  Position-ID max: 14758.0\n",
      "  Position-ID mean: 313.90\n",
      "  'Working Student' -> ID: 0.0\n",
      "  'Intern' -> ID: 0.0\n",
      "  'Software Developer' -> ID: 14741.0\n",
      "  berufserfahrung_tage: min=7.00, max=37697.00, mean=3348.18\n",
      "  anzahl_wechsel_bisher: min=0.00, max=30.00, mean=4.10\n",
      "  anzahl_jobs_bisher: min=1.00, max=31.00, mean=5.39\n",
      "  durchschnittsdauer_jobs: min=0.00, max=12236.00, mean=673.70\n",
      "  age_category: min=1.00, max=5.00, mean=3.30\n",
      "  position_level: min=0.00, max=8.00, mean=3.82\n",
      "  position_branche: min=0.00, max=24.00, mean=12.66\n",
      "  position_durchschnittszeit: min=0.00, max=2920.00, mean=1160.39\n",
      "  position_id_numeric: min=0.00, max=14758.00, mean=313.90\n",
      "  weekday: min=0.00, max=6.00, mean=3.01\n",
      "Train: 130842 Val: 60986\n",
      "    profile_id  time_idx  target                            position  \\\n",
      "11           0        11   168.0                  Software Developer   \n",
      "12           0        12   168.0                  Software Developer   \n",
      "13           0        13   168.0                  Software Developer   \n",
      "14           0        14   168.0                  Software Developer   \n",
      "15           0        15   168.0                  Software Developer   \n",
      "27           1        11   171.0  Digital Campaign & Data Specialist   \n",
      "28           1        12   171.0                  Software Developer   \n",
      "29           1        13   171.0                  Software Developer   \n",
      "30           1        14   171.0                  Software Developer   \n",
      "31           1        15   171.0                  Software Developer   \n",
      "60           2        28    37.0                  Research Associate   \n",
      "61           2        29    37.0                  Research Associate   \n",
      "62           2        30    37.0                  Research Associate   \n",
      "63           2        31    37.0                  Research Associate   \n",
      "64           2        32    37.0                   Senior Consultant   \n",
      "65           2        33    37.0                   Senior Consultant   \n",
      "66           2        34    37.0                   Senior Consultant   \n",
      "67           2        35    37.0                   Senior Consultant   \n",
      "68           2        36    37.0           Senior Software Architect   \n",
      "69           2        37    37.0           Senior Software Architect   \n",
      "\n",
      "    feature_0  feature_1  feature_2    feature_3  feature_4  feature_5  ...  \\\n",
      "11     2288.0        3.0        5.0   325.000000        2.0        2.0  ...   \n",
      "12     2337.0        3.0        5.0   325.000000        2.0        2.0  ...   \n",
      "13     2756.0        4.0        5.0   532.500000        2.0        2.0  ...   \n",
      "14     3175.0        4.0        5.0   532.500000        2.0        2.0  ...   \n",
      "15     3426.0        4.0        5.0   532.500000        2.0        2.0  ...   \n",
      "27     3692.0        3.0        4.0  1096.000000        4.0        4.0  ...   \n",
      "28     4201.0        4.0        5.0   875.250000        4.0        2.0  ...   \n",
      "29     4628.0        4.0        5.0   875.250000        4.0        2.0  ...   \n",
      "30     5054.0        4.0        5.0   875.250000        4.0        2.0  ...   \n",
      "31     5310.0        4.0        5.0   875.250000        4.0        2.0  ...   \n",
      "60     5228.0        8.0        9.0   308.625000        4.0        3.0  ...   \n",
      "61     5738.0        8.0        9.0   308.625000        4.0        3.0  ...   \n",
      "62     6248.0        8.0        9.0   308.625000        4.0        3.0  ...   \n",
      "63     6554.0        8.0        9.0   308.625000        4.0        3.0  ...   \n",
      "64     6864.0        9.0       10.0   501.000000        4.0        4.0  ...   \n",
      "65     7031.0        9.0       10.0   501.000000        4.0        4.0  ...   \n",
      "66     7198.0        9.0       10.0   501.000000        4.0        4.0  ...   \n",
      "67     7299.0        9.0       10.0   501.000000        4.0        4.0  ...   \n",
      "68     7427.0       10.0       11.0   517.799988        4.0        4.0  ...   \n",
      "69     7519.0       10.0       11.0   517.799988        4.0        4.0  ...   \n",
      "\n",
      "    feature_14  feature_15  feature_16   feature_17  feature_18  feature_19  \\\n",
      "11    0.866025         2.0         7.0   325.000000         1.0         7.0   \n",
      "12    1.000000         2.0         7.0   325.000000         1.0         7.0   \n",
      "13    0.500000         2.0         7.0   325.000000         1.0         7.0   \n",
      "14   -0.500000         2.0         7.0   325.000000         1.0         7.0   \n",
      "15    1.000000         2.0         7.0   325.000000         1.0         7.0   \n",
      "27   -0.866025         4.0        14.0  1096.000000         2.0        17.0   \n",
      "28    1.000000         4.0        14.0  1096.000000         2.0        17.0   \n",
      "29    0.500000         2.0         7.0   875.250000         4.0        14.0   \n",
      "30   -0.500000         2.0         7.0   875.250000         4.0        14.0   \n",
      "31    1.000000         2.0         7.0   875.250000         4.0        14.0   \n",
      "60   -0.500000         5.0         7.0   140.000000         2.0        22.0   \n",
      "61    0.866025         3.0        22.0   308.625000         5.0         7.0   \n",
      "62   -1.000000         3.0        22.0   308.625000         5.0         7.0   \n",
      "63   -0.500000         3.0        22.0   308.625000         5.0         7.0   \n",
      "64    0.500000         3.0        22.0   308.625000         5.0         7.0   \n",
      "65   -0.500000         4.0         2.0   501.000000         3.0        22.0   \n",
      "66    0.866025         4.0         2.0   501.000000         3.0        22.0   \n",
      "67   -0.500000         4.0         2.0   501.000000         3.0        22.0   \n",
      "68   -0.500000         4.0         2.0   501.000000         3.0        22.0   \n",
      "69    1.000000         4.0         7.0   517.799988         4.0         2.0   \n",
      "\n",
      "     feature_20  feature_21  feature_22  is_train  \n",
      "11   426.500000         0.0         0.0     False  \n",
      "12   426.500000         0.0         0.0     False  \n",
      "13   426.500000         0.0         0.0     False  \n",
      "14   426.500000         0.0         0.0     False  \n",
      "15   426.500000         0.0         0.0     False  \n",
      "27   624.000000         0.0        22.0     False  \n",
      "28   624.000000         0.0        22.0     False  \n",
      "29  1096.000000         0.0        22.0     False  \n",
      "30  1096.000000         0.0        22.0     False  \n",
      "31  1096.000000         0.0        22.0     False  \n",
      "60   132.666672         0.0         7.0     False  \n",
      "61   140.000000         0.0         7.0     False  \n",
      "62   140.000000         0.0         7.0     False  \n",
      "63   140.000000         0.0         7.0     False  \n",
      "64   140.000000         0.0         7.0     False  \n",
      "65   308.625000         0.0         7.0     False  \n",
      "66   308.625000         0.0         7.0     False  \n",
      "67   308.625000         0.0         7.0     False  \n",
      "68   308.625000         0.0         7.0     False  \n",
      "69   501.000000         0.0         7.0     False  \n",
      "\n",
      "[20 rows x 28 columns]\n",
      "Time-varying unknown reals: 23 Features\n",
      "Time-varying known reals: ['time_idx']\n",
      "Static categoricals: ['position_id']\n",
      "Anzahl eindeutige Positionen: 25712\n",
      "\n",
      "Feature-Übersicht:\n",
      "  feature_0 -> berufserfahrung_tage\n",
      "  feature_1 -> anzahl_wechsel_bisher\n",
      "  feature_2 -> anzahl_jobs_bisher\n",
      "  feature_3 -> durchschnittsdauer_jobs\n",
      "  feature_4 -> age_category\n",
      "  feature_5 -> position_level\n",
      "  feature_6 -> position_branche\n",
      "  feature_7 -> position_durchschnittszeit\n",
      "  feature_8 -> position_id_numeric\n",
      "  feature_9 -> weekday\n",
      "  feature_10 -> weekday_sin\n",
      "  feature_11 -> weekday_cos\n",
      "  feature_12 -> month\n",
      "  feature_13 -> month_sin\n",
      "  feature_14 -> month_cos\n",
      "  feature_15 -> prev_position_1_level\n",
      "  feature_16 -> prev_position_1_branche\n",
      "  feature_17 -> prev_position_1_dauer\n",
      "  feature_18 -> prev_position_2_level\n",
      "  feature_19 -> prev_position_2_branche\n",
      "  feature_20 -> prev_position_2_dauer\n",
      "  feature_21 -> company_size\n",
      "  feature_22 -> study_field\n"
     ]
    },
    {
     "name": "stderr",
     "output_type": "stream",
     "text": [
      "/Library/Frameworks/Python.framework/Versions/3.12/lib/python3.12/site-packages/pytorch_forecasting/data/timeseries.py:1831: UserWarning: Min encoder length and/or min_prediction_idx and/or min prediction length and/or lags are too large for 409 series/groups which therefore are not present in the dataset index. This means no predictions can be made for those series. First 10 removed groups: [{'__group_id__profile_id': 12}, {'__group_id__profile_id': 15}, {'__group_id__profile_id': 17}, {'__group_id__profile_id': 20}, {'__group_id__profile_id': 25}, {'__group_id__profile_id': 28}, {'__group_id__profile_id': 31}, {'__group_id__profile_id': 32}, {'__group_id__profile_id': 55}, {'__group_id__profile_id': 59}]\n",
      "  warnings.warn(\n",
      "/Library/Frameworks/Python.framework/Versions/3.12/lib/python3.12/site-packages/pytorch_forecasting/data/encoders.py:400: UserWarning: Found 5305 unknown classes which were set to NaN\n",
      "  warnings.warn(\n",
      "/Library/Frameworks/Python.framework/Versions/3.12/lib/python3.12/site-packages/pytorch_forecasting/data/timeseries.py:1831: UserWarning: Min encoder length and/or min_prediction_idx and/or min prediction length and/or lags are too large for 1114 series/groups which therefore are not present in the dataset index. This means no predictions can be made for those series. First 10 removed groups: [{'__group_id__profile_id': 7}, {'__group_id__profile_id': 9}, {'__group_id__profile_id': 12}, {'__group_id__profile_id': 15}, {'__group_id__profile_id': 17}, {'__group_id__profile_id': 19}, {'__group_id__profile_id': 20}, {'__group_id__profile_id': 24}, {'__group_id__profile_id': 25}, {'__group_id__profile_id': 28}]\n",
      "  warnings.warn(\n"
     ]
    },
    {
     "name": "stdout",
     "output_type": "stream",
     "text": [
      "Training: 130842\n",
      "Validation: 60986\n",
      "Start hyperparameter optimization...\n",
      "Count of Trials: 10\n",
      "\n",
      "Trial 1/10\n",
      "Parameter: {'learning_rate': 0.001, 'hidden_size': 128, 'attention_head_size': 4, 'dropout': 0.3, 'hidden_continuous_size': 16, 'output_size': 7}\n"
     ]
    },
    {
     "name": "stderr",
     "output_type": "stream",
     "text": [
      "/Library/Frameworks/Python.framework/Versions/3.12/lib/python3.12/site-packages/lightning/pytorch/utilities/parsing.py:208: Attribute 'loss' is an instance of `nn.Module` and is already saved during checkpointing. It is recommended to ignore them using `self.save_hyperparameters(ignore=['loss'])`.\n",
      "/Library/Frameworks/Python.framework/Versions/3.12/lib/python3.12/site-packages/lightning/pytorch/utilities/parsing.py:208: Attribute 'logging_metrics' is an instance of `nn.Module` and is already saved during checkpointing. It is recommended to ignore them using `self.save_hyperparameters(ignore=['logging_metrics'])`.\n",
      "GPU available: True (mps), used: False\n",
      "TPU available: False, using: 0 TPU cores\n",
      "HPU available: False, using: 0 HPUs\n",
      "/Library/Frameworks/Python.framework/Versions/3.12/lib/python3.12/site-packages/lightning/pytorch/trainer/setup.py:177: GPU available but not used. You can set it by doing `Trainer(accelerator='gpu')`.\n",
      "\n",
      "   | Name                               | Type                            | Params | Mode \n",
      "------------------------------------------------------------------------------------------------\n",
      "0  | loss                               | QuantileLoss                    | 0      | train\n",
      "1  | logging_metrics                    | ModuleList                      | 0      | train\n",
      "2  | input_embeddings                   | MultiEmbedding                  | 2.0 M  | train\n",
      "3  | prescalers                         | ModuleDict                      | 896    | train\n",
      "4  | static_variable_selection          | VariableSelectionNetwork        | 17.8 K | train\n",
      "5  | encoder_variable_selection         | VariableSelectionNetwork        | 154 K  | train\n",
      "6  | decoder_variable_selection         | VariableSelectionNetwork        | 11.5 K | train\n",
      "7  | static_context_variable_selection  | GatedResidualNetwork            | 66.3 K | train\n",
      "8  | static_context_initial_hidden_lstm | GatedResidualNetwork            | 66.3 K | train\n",
      "9  | static_context_initial_cell_lstm   | GatedResidualNetwork            | 66.3 K | train\n",
      "10 | static_context_enrichment          | GatedResidualNetwork            | 66.3 K | train\n",
      "11 | lstm_encoder                       | LSTM                            | 132 K  | train\n",
      "12 | lstm_decoder                       | LSTM                            | 132 K  | train\n",
      "13 | post_lstm_gate_encoder             | GatedLinearUnit                 | 33.0 K | train\n",
      "14 | post_lstm_add_norm_encoder         | AddNorm                         | 256    | train\n",
      "15 | static_enrichment                  | GatedResidualNetwork            | 82.7 K | train\n",
      "16 | multihead_attn                     | InterpretableMultiHeadAttention | 41.2 K | train\n",
      "17 | post_attn_gate_norm                | GateAddNorm                     | 33.3 K | train\n",
      "18 | pos_wise_ff                        | GatedResidualNetwork            | 66.3 K | train\n",
      "19 | pre_output_gate_norm               | GateAddNorm                     | 33.3 K | train\n",
      "20 | output_layer                       | Linear                          | 903    | train\n",
      "------------------------------------------------------------------------------------------------\n",
      "3.0 M     Trainable params\n",
      "0         Non-trainable params\n",
      "3.0 M     Total params\n",
      "12.180    Total estimated model params size (MB)\n",
      "614       Modules in train mode\n",
      "0         Modules in eval mode\n",
      "/Library/Frameworks/Python.framework/Versions/3.12/lib/python3.12/site-packages/lightning/pytorch/trainer/connectors/data_connector.py:419: Consider setting `persistent_workers=True` in 'val_dataloader' to speed up the dataloader worker initialization.\n",
      "/Library/Frameworks/Python.framework/Versions/3.12/lib/python3.12/site-packages/lightning/pytorch/trainer/connectors/data_connector.py:419: Consider setting `persistent_workers=True` in 'train_dataloader' to speed up the dataloader worker initialization.\n",
      "`Trainer.fit` stopped: `max_epochs=5` reached.\n"
     ]
    },
    {
     "data": {
      "text/html": [
       "<pre style=\"white-space:pre;overflow-x:auto;line-height:normal;font-family:Menlo,'DejaVu Sans Mono',consolas,'Courier New',monospace\">┏━━━━━━━━━━━━━━━━━━━━━━━━━━━┳━━━━━━━━━━━━━━━━━━━━━━━━━━━┓\n",
       "┃<span style=\"font-weight: bold\">      Validate metric      </span>┃<span style=\"font-weight: bold\">       DataLoader 0        </span>┃\n",
       "┡━━━━━━━━━━━━━━━━━━━━━━━━━━━╇━━━━━━━━━━━━━━━━━━━━━━━━━━━┩\n",
       "│<span style=\"color: #008080; text-decoration-color: #008080\">          val_MAE          </span>│<span style=\"color: #800080; text-decoration-color: #800080\">     78.77069854736328     </span>│\n",
       "│<span style=\"color: #008080; text-decoration-color: #008080\">         val_MAPE          </span>│<span style=\"color: #800080; text-decoration-color: #800080\">    1.8945027589797974     </span>│\n",
       "│<span style=\"color: #008080; text-decoration-color: #008080\">         val_RMSE          </span>│<span style=\"color: #800080; text-decoration-color: #800080\">    116.46837615966797     </span>│\n",
       "│<span style=\"color: #008080; text-decoration-color: #008080\">         val_SMAPE         </span>│<span style=\"color: #800080; text-decoration-color: #800080\">    0.8695759773254395     </span>│\n",
       "│<span style=\"color: #008080; text-decoration-color: #008080\">         val_loss          </span>│<span style=\"color: #800080; text-decoration-color: #800080\">    60.598594665527344     </span>│\n",
       "└───────────────────────────┴───────────────────────────┘\n",
       "</pre>\n"
      ],
      "text/plain": [
       "┏━━━━━━━━━━━━━━━━━━━━━━━━━━━┳━━━━━━━━━━━━━━━━━━━━━━━━━━━┓\n",
       "┃\u001b[1m \u001b[0m\u001b[1m     Validate metric     \u001b[0m\u001b[1m \u001b[0m┃\u001b[1m \u001b[0m\u001b[1m      DataLoader 0       \u001b[0m\u001b[1m \u001b[0m┃\n",
       "┡━━━━━━━━━━━━━━━━━━━━━━━━━━━╇━━━━━━━━━━━━━━━━━━━━━━━━━━━┩\n",
       "│\u001b[36m \u001b[0m\u001b[36m         val_MAE         \u001b[0m\u001b[36m \u001b[0m│\u001b[35m \u001b[0m\u001b[35m    78.77069854736328    \u001b[0m\u001b[35m \u001b[0m│\n",
       "│\u001b[36m \u001b[0m\u001b[36m        val_MAPE         \u001b[0m\u001b[36m \u001b[0m│\u001b[35m \u001b[0m\u001b[35m   1.8945027589797974    \u001b[0m\u001b[35m \u001b[0m│\n",
       "│\u001b[36m \u001b[0m\u001b[36m        val_RMSE         \u001b[0m\u001b[36m \u001b[0m│\u001b[35m \u001b[0m\u001b[35m   116.46837615966797    \u001b[0m\u001b[35m \u001b[0m│\n",
       "│\u001b[36m \u001b[0m\u001b[36m        val_SMAPE        \u001b[0m\u001b[36m \u001b[0m│\u001b[35m \u001b[0m\u001b[35m   0.8695759773254395    \u001b[0m\u001b[35m \u001b[0m│\n",
       "│\u001b[36m \u001b[0m\u001b[36m        val_loss         \u001b[0m\u001b[36m \u001b[0m│\u001b[35m \u001b[0m\u001b[35m   60.598594665527344    \u001b[0m\u001b[35m \u001b[0m│\n",
       "└───────────────────────────┴───────────────────────────┘\n"
      ]
     },
     "metadata": {},
     "output_type": "display_data"
    },
    {
     "name": "stdout",
     "output_type": "stream",
     "text": [
      "Trial 1 - Val Loss: 60.5986\n",
      "\n",
      "Trial 2/10\n",
      "Parameter: {'learning_rate': 0.01, 'hidden_size': 32, 'attention_head_size': 4, 'dropout': 0.3, 'hidden_continuous_size': 32, 'output_size': 7}\n"
     ]
    },
    {
     "name": "stderr",
     "output_type": "stream",
     "text": [
      "GPU available: True (mps), used: False\n",
      "TPU available: False, using: 0 TPU cores\n",
      "HPU available: False, using: 0 HPUs\n",
      "\n",
      "   | Name                               | Type                            | Params | Mode \n",
      "------------------------------------------------------------------------------------------------\n",
      "0  | loss                               | QuantileLoss                    | 0      | train\n",
      "1  | logging_metrics                    | ModuleList                      | 0      | train\n",
      "2  | input_embeddings                   | MultiEmbedding                  | 653 K  | train\n",
      "3  | prescalers                         | ModuleDict                      | 1.8 K  | train\n",
      "4  | static_variable_selection          | VariableSelectionNetwork        | 13.7 K | train\n",
      "5  | encoder_variable_selection         | VariableSelectionNetwork        | 131 K  | train\n",
      "6  | decoder_variable_selection         | VariableSelectionNetwork        | 8.9 K  | train\n",
      "7  | static_context_variable_selection  | GatedResidualNetwork            | 4.3 K  | train\n",
      "8  | static_context_initial_hidden_lstm | GatedResidualNetwork            | 4.3 K  | train\n",
      "9  | static_context_initial_cell_lstm   | GatedResidualNetwork            | 4.3 K  | train\n",
      "10 | static_context_enrichment          | GatedResidualNetwork            | 4.3 K  | train\n",
      "11 | lstm_encoder                       | LSTM                            | 8.4 K  | train\n",
      "12 | lstm_decoder                       | LSTM                            | 8.4 K  | train\n",
      "13 | post_lstm_gate_encoder             | GatedLinearUnit                 | 2.1 K  | train\n",
      "14 | post_lstm_add_norm_encoder         | AddNorm                         | 64     | train\n",
      "15 | static_enrichment                  | GatedResidualNetwork            | 5.3 K  | train\n",
      "16 | multihead_attn                     | InterpretableMultiHeadAttention | 2.6 K  | train\n",
      "17 | post_attn_gate_norm                | GateAddNorm                     | 2.2 K  | train\n",
      "18 | pos_wise_ff                        | GatedResidualNetwork            | 4.3 K  | train\n",
      "19 | pre_output_gate_norm               | GateAddNorm                     | 2.2 K  | train\n",
      "20 | output_layer                       | Linear                          | 231    | train\n",
      "------------------------------------------------------------------------------------------------\n",
      "860 K     Trainable params\n",
      "0         Non-trainable params\n",
      "860 K     Total params\n",
      "3.441     Total estimated model params size (MB)\n",
      "493       Modules in train mode\n",
      "0         Modules in eval mode\n",
      "`Trainer.fit` stopped: `max_epochs=5` reached.\n"
     ]
    },
    {
     "data": {
      "text/html": [
       "<pre style=\"white-space:pre;overflow-x:auto;line-height:normal;font-family:Menlo,'DejaVu Sans Mono',consolas,'Courier New',monospace\">┏━━━━━━━━━━━━━━━━━━━━━━━━━━━┳━━━━━━━━━━━━━━━━━━━━━━━━━━━┓\n",
       "┃<span style=\"font-weight: bold\">      Validate metric      </span>┃<span style=\"font-weight: bold\">       DataLoader 0        </span>┃\n",
       "┡━━━━━━━━━━━━━━━━━━━━━━━━━━━╇━━━━━━━━━━━━━━━━━━━━━━━━━━━┩\n",
       "│<span style=\"color: #008080; text-decoration-color: #008080\">          val_MAE          </span>│<span style=\"color: #800080; text-decoration-color: #800080\">     64.77690124511719     </span>│\n",
       "│<span style=\"color: #008080; text-decoration-color: #008080\">         val_MAPE          </span>│<span style=\"color: #800080; text-decoration-color: #800080\">    1.7661365270614624     </span>│\n",
       "│<span style=\"color: #008080; text-decoration-color: #008080\">         val_RMSE          </span>│<span style=\"color: #800080; text-decoration-color: #800080\">    103.82913208007812     </span>│\n",
       "│<span style=\"color: #008080; text-decoration-color: #008080\">         val_SMAPE         </span>│<span style=\"color: #800080; text-decoration-color: #800080\">    0.6767149567604065     </span>│\n",
       "│<span style=\"color: #008080; text-decoration-color: #008080\">         val_loss          </span>│<span style=\"color: #800080; text-decoration-color: #800080\">     32.50899124145508     </span>│\n",
       "└───────────────────────────┴───────────────────────────┘\n",
       "</pre>\n"
      ],
      "text/plain": [
       "┏━━━━━━━━━━━━━━━━━━━━━━━━━━━┳━━━━━━━━━━━━━━━━━━━━━━━━━━━┓\n",
       "┃\u001b[1m \u001b[0m\u001b[1m     Validate metric     \u001b[0m\u001b[1m \u001b[0m┃\u001b[1m \u001b[0m\u001b[1m      DataLoader 0       \u001b[0m\u001b[1m \u001b[0m┃\n",
       "┡━━━━━━━━━━━━━━━━━━━━━━━━━━━╇━━━━━━━━━━━━━━━━━━━━━━━━━━━┩\n",
       "│\u001b[36m \u001b[0m\u001b[36m         val_MAE         \u001b[0m\u001b[36m \u001b[0m│\u001b[35m \u001b[0m\u001b[35m    64.77690124511719    \u001b[0m\u001b[35m \u001b[0m│\n",
       "│\u001b[36m \u001b[0m\u001b[36m        val_MAPE         \u001b[0m\u001b[36m \u001b[0m│\u001b[35m \u001b[0m\u001b[35m   1.7661365270614624    \u001b[0m\u001b[35m \u001b[0m│\n",
       "│\u001b[36m \u001b[0m\u001b[36m        val_RMSE         \u001b[0m\u001b[36m \u001b[0m│\u001b[35m \u001b[0m\u001b[35m   103.82913208007812    \u001b[0m\u001b[35m \u001b[0m│\n",
       "│\u001b[36m \u001b[0m\u001b[36m        val_SMAPE        \u001b[0m\u001b[36m \u001b[0m│\u001b[35m \u001b[0m\u001b[35m   0.6767149567604065    \u001b[0m\u001b[35m \u001b[0m│\n",
       "│\u001b[36m \u001b[0m\u001b[36m        val_loss         \u001b[0m\u001b[36m \u001b[0m│\u001b[35m \u001b[0m\u001b[35m    32.50899124145508    \u001b[0m\u001b[35m \u001b[0m│\n",
       "└───────────────────────────┴───────────────────────────┘\n"
      ]
     },
     "metadata": {},
     "output_type": "display_data"
    },
    {
     "name": "stdout",
     "output_type": "stream",
     "text": [
      "Trial 2 - Val Loss: 32.5090\n",
      "\n",
      "Trial 3/10\n",
      "Parameter: {'learning_rate': 0.05, 'hidden_size': 16, 'attention_head_size': 4, 'dropout': 0.3, 'hidden_continuous_size': 8, 'output_size': 7}\n"
     ]
    },
    {
     "name": "stderr",
     "output_type": "stream",
     "text": [
      "GPU available: True (mps), used: False\n",
      "TPU available: False, using: 0 TPU cores\n",
      "HPU available: False, using: 0 HPUs\n",
      "\n",
      "   | Name                               | Type                            | Params | Mode \n",
      "------------------------------------------------------------------------------------------------\n",
      "0  | loss                               | QuantileLoss                    | 0      | train\n",
      "1  | logging_metrics                    | ModuleList                      | 0      | train\n",
      "2  | input_embeddings                   | MultiEmbedding                  | 326 K  | train\n",
      "3  | prescalers                         | ModuleDict                      | 448    | train\n",
      "4  | static_variable_selection          | VariableSelectionNetwork        | 1.9 K  | train\n",
      "5  | encoder_variable_selection         | VariableSelectionNetwork        | 17.9 K | train\n",
      "6  | decoder_variable_selection         | VariableSelectionNetwork        | 1.2 K  | train\n",
      "7  | static_context_variable_selection  | GatedResidualNetwork            | 1.1 K  | train\n",
      "8  | static_context_initial_hidden_lstm | GatedResidualNetwork            | 1.1 K  | train\n",
      "9  | static_context_initial_cell_lstm   | GatedResidualNetwork            | 1.1 K  | train\n",
      "10 | static_context_enrichment          | GatedResidualNetwork            | 1.1 K  | train\n",
      "11 | lstm_encoder                       | LSTM                            | 2.2 K  | train\n",
      "12 | lstm_decoder                       | LSTM                            | 2.2 K  | train\n",
      "13 | post_lstm_gate_encoder             | GatedLinearUnit                 | 544    | train\n",
      "14 | post_lstm_add_norm_encoder         | AddNorm                         | 32     | train\n",
      "15 | static_enrichment                  | GatedResidualNetwork            | 1.4 K  | train\n",
      "16 | multihead_attn                     | InterpretableMultiHeadAttention | 676    | train\n",
      "17 | post_attn_gate_norm                | GateAddNorm                     | 576    | train\n",
      "18 | pos_wise_ff                        | GatedResidualNetwork            | 1.1 K  | train\n",
      "19 | pre_output_gate_norm               | GateAddNorm                     | 576    | train\n",
      "20 | output_layer                       | Linear                          | 119    | train\n",
      "------------------------------------------------------------------------------------------------\n",
      "361 K     Trainable params\n",
      "0         Non-trainable params\n",
      "361 K     Total params\n",
      "1.445     Total estimated model params size (MB)\n",
      "613       Modules in train mode\n",
      "0         Modules in eval mode\n",
      "`Trainer.fit` stopped: `max_epochs=5` reached.\n"
     ]
    },
    {
     "data": {
      "text/html": [
       "<pre style=\"white-space:pre;overflow-x:auto;line-height:normal;font-family:Menlo,'DejaVu Sans Mono',consolas,'Courier New',monospace\">┏━━━━━━━━━━━━━━━━━━━━━━━━━━━┳━━━━━━━━━━━━━━━━━━━━━━━━━━━┓\n",
       "┃<span style=\"font-weight: bold\">      Validate metric      </span>┃<span style=\"font-weight: bold\">       DataLoader 0        </span>┃\n",
       "┡━━━━━━━━━━━━━━━━━━━━━━━━━━━╇━━━━━━━━━━━━━━━━━━━━━━━━━━━┩\n",
       "│<span style=\"color: #008080; text-decoration-color: #008080\">          val_MAE          </span>│<span style=\"color: #800080; text-decoration-color: #800080\">     78.80184936523438     </span>│\n",
       "│<span style=\"color: #008080; text-decoration-color: #008080\">         val_MAPE          </span>│<span style=\"color: #800080; text-decoration-color: #800080\">     1.897324800491333     </span>│\n",
       "│<span style=\"color: #008080; text-decoration-color: #008080\">         val_RMSE          </span>│<span style=\"color: #800080; text-decoration-color: #800080\">    116.48341369628906     </span>│\n",
       "│<span style=\"color: #008080; text-decoration-color: #008080\">         val_SMAPE         </span>│<span style=\"color: #800080; text-decoration-color: #800080\">    0.8695213198661804     </span>│\n",
       "│<span style=\"color: #008080; text-decoration-color: #008080\">         val_loss          </span>│<span style=\"color: #800080; text-decoration-color: #800080\">     38.39811325073242     </span>│\n",
       "└───────────────────────────┴───────────────────────────┘\n",
       "</pre>\n"
      ],
      "text/plain": [
       "┏━━━━━━━━━━━━━━━━━━━━━━━━━━━┳━━━━━━━━━━━━━━━━━━━━━━━━━━━┓\n",
       "┃\u001b[1m \u001b[0m\u001b[1m     Validate metric     \u001b[0m\u001b[1m \u001b[0m┃\u001b[1m \u001b[0m\u001b[1m      DataLoader 0       \u001b[0m\u001b[1m \u001b[0m┃\n",
       "┡━━━━━━━━━━━━━━━━━━━━━━━━━━━╇━━━━━━━━━━━━━━━━━━━━━━━━━━━┩\n",
       "│\u001b[36m \u001b[0m\u001b[36m         val_MAE         \u001b[0m\u001b[36m \u001b[0m│\u001b[35m \u001b[0m\u001b[35m    78.80184936523438    \u001b[0m\u001b[35m \u001b[0m│\n",
       "│\u001b[36m \u001b[0m\u001b[36m        val_MAPE         \u001b[0m\u001b[36m \u001b[0m│\u001b[35m \u001b[0m\u001b[35m    1.897324800491333    \u001b[0m\u001b[35m \u001b[0m│\n",
       "│\u001b[36m \u001b[0m\u001b[36m        val_RMSE         \u001b[0m\u001b[36m \u001b[0m│\u001b[35m \u001b[0m\u001b[35m   116.48341369628906    \u001b[0m\u001b[35m \u001b[0m│\n",
       "│\u001b[36m \u001b[0m\u001b[36m        val_SMAPE        \u001b[0m\u001b[36m \u001b[0m│\u001b[35m \u001b[0m\u001b[35m   0.8695213198661804    \u001b[0m\u001b[35m \u001b[0m│\n",
       "│\u001b[36m \u001b[0m\u001b[36m        val_loss         \u001b[0m\u001b[36m \u001b[0m│\u001b[35m \u001b[0m\u001b[35m    38.39811325073242    \u001b[0m\u001b[35m \u001b[0m│\n",
       "└───────────────────────────┴───────────────────────────┘\n"
      ]
     },
     "metadata": {},
     "output_type": "display_data"
    },
    {
     "name": "stdout",
     "output_type": "stream",
     "text": [
      "Trial 3 - Val Loss: 38.3981\n",
      "\n",
      "Trial 4/10\n",
      "Parameter: {'learning_rate': 0.001, 'hidden_size': 64, 'attention_head_size': 4, 'dropout': 0.05, 'hidden_continuous_size': 32, 'output_size': 7}\n"
     ]
    },
    {
     "name": "stderr",
     "output_type": "stream",
     "text": [
      "GPU available: True (mps), used: False\n",
      "TPU available: False, using: 0 TPU cores\n",
      "HPU available: False, using: 0 HPUs\n",
      "\n",
      "   | Name                               | Type                            | Params | Mode \n",
      "------------------------------------------------------------------------------------------------\n",
      "0  | loss                               | QuantileLoss                    | 0      | train\n",
      "1  | logging_metrics                    | ModuleList                      | 0      | train\n",
      "2  | input_embeddings                   | MultiEmbedding                  | 1.3 M  | train\n",
      "3  | prescalers                         | ModuleDict                      | 1.8 K  | train\n",
      "4  | static_variable_selection          | VariableSelectionNetwork        | 21.1 K | train\n",
      "5  | encoder_variable_selection         | VariableSelectionNetwork        | 191 K  | train\n",
      "6  | decoder_variable_selection         | VariableSelectionNetwork        | 13.7 K | train\n",
      "7  | static_context_variable_selection  | GatedResidualNetwork            | 16.8 K | train\n",
      "8  | static_context_initial_hidden_lstm | GatedResidualNetwork            | 16.8 K | train\n",
      "9  | static_context_initial_cell_lstm   | GatedResidualNetwork            | 16.8 K | train\n",
      "10 | static_context_enrichment          | GatedResidualNetwork            | 16.8 K | train\n",
      "11 | lstm_encoder                       | LSTM                            | 33.3 K | train\n",
      "12 | lstm_decoder                       | LSTM                            | 33.3 K | train\n",
      "13 | post_lstm_gate_encoder             | GatedLinearUnit                 | 8.3 K  | train\n",
      "14 | post_lstm_add_norm_encoder         | AddNorm                         | 128    | train\n",
      "15 | static_enrichment                  | GatedResidualNetwork            | 20.9 K | train\n",
      "16 | multihead_attn                     | InterpretableMultiHeadAttention | 10.4 K | train\n",
      "17 | post_attn_gate_norm                | GateAddNorm                     | 8.4 K  | train\n",
      "18 | pos_wise_ff                        | GatedResidualNetwork            | 16.8 K | train\n",
      "19 | pre_output_gate_norm               | GateAddNorm                     | 8.4 K  | train\n",
      "20 | output_layer                       | Linear                          | 455    | train\n",
      "------------------------------------------------------------------------------------------------\n",
      "1.7 M     Trainable params\n",
      "0         Non-trainable params\n",
      "1.7 M     Total params\n",
      "6.960     Total estimated model params size (MB)\n",
      "613       Modules in train mode\n",
      "0         Modules in eval mode\n",
      "`Trainer.fit` stopped: `max_epochs=5` reached.\n"
     ]
    },
    {
     "data": {
      "text/html": [
       "<pre style=\"white-space:pre;overflow-x:auto;line-height:normal;font-family:Menlo,'DejaVu Sans Mono',consolas,'Courier New',monospace\">┏━━━━━━━━━━━━━━━━━━━━━━━━━━━┳━━━━━━━━━━━━━━━━━━━━━━━━━━━┓\n",
       "┃<span style=\"font-weight: bold\">      Validate metric      </span>┃<span style=\"font-weight: bold\">       DataLoader 0        </span>┃\n",
       "┡━━━━━━━━━━━━━━━━━━━━━━━━━━━╇━━━━━━━━━━━━━━━━━━━━━━━━━━━┩\n",
       "│<span style=\"color: #008080; text-decoration-color: #008080\">          val_MAE          </span>│<span style=\"color: #800080; text-decoration-color: #800080\">     78.68314361572266     </span>│\n",
       "│<span style=\"color: #008080; text-decoration-color: #008080\">         val_MAPE          </span>│<span style=\"color: #800080; text-decoration-color: #800080\">    1.9246360063552856     </span>│\n",
       "│<span style=\"color: #008080; text-decoration-color: #008080\">         val_RMSE          </span>│<span style=\"color: #800080; text-decoration-color: #800080\">    116.45658111572266     </span>│\n",
       "│<span style=\"color: #008080; text-decoration-color: #008080\">         val_SMAPE         </span>│<span style=\"color: #800080; text-decoration-color: #800080\">    0.8462271690368652     </span>│\n",
       "│<span style=\"color: #008080; text-decoration-color: #008080\">         val_loss          </span>│<span style=\"color: #800080; text-decoration-color: #800080\">     67.49480438232422     </span>│\n",
       "└───────────────────────────┴───────────────────────────┘\n",
       "</pre>\n"
      ],
      "text/plain": [
       "┏━━━━━━━━━━━━━━━━━━━━━━━━━━━┳━━━━━━━━━━━━━━━━━━━━━━━━━━━┓\n",
       "┃\u001b[1m \u001b[0m\u001b[1m     Validate metric     \u001b[0m\u001b[1m \u001b[0m┃\u001b[1m \u001b[0m\u001b[1m      DataLoader 0       \u001b[0m\u001b[1m \u001b[0m┃\n",
       "┡━━━━━━━━━━━━━━━━━━━━━━━━━━━╇━━━━━━━━━━━━━━━━━━━━━━━━━━━┩\n",
       "│\u001b[36m \u001b[0m\u001b[36m         val_MAE         \u001b[0m\u001b[36m \u001b[0m│\u001b[35m \u001b[0m\u001b[35m    78.68314361572266    \u001b[0m\u001b[35m \u001b[0m│\n",
       "│\u001b[36m \u001b[0m\u001b[36m        val_MAPE         \u001b[0m\u001b[36m \u001b[0m│\u001b[35m \u001b[0m\u001b[35m   1.9246360063552856    \u001b[0m\u001b[35m \u001b[0m│\n",
       "│\u001b[36m \u001b[0m\u001b[36m        val_RMSE         \u001b[0m\u001b[36m \u001b[0m│\u001b[35m \u001b[0m\u001b[35m   116.45658111572266    \u001b[0m\u001b[35m \u001b[0m│\n",
       "│\u001b[36m \u001b[0m\u001b[36m        val_SMAPE        \u001b[0m\u001b[36m \u001b[0m│\u001b[35m \u001b[0m\u001b[35m   0.8462271690368652    \u001b[0m\u001b[35m \u001b[0m│\n",
       "│\u001b[36m \u001b[0m\u001b[36m        val_loss         \u001b[0m\u001b[36m \u001b[0m│\u001b[35m \u001b[0m\u001b[35m    67.49480438232422    \u001b[0m\u001b[35m \u001b[0m│\n",
       "└───────────────────────────┴───────────────────────────┘\n"
      ]
     },
     "metadata": {},
     "output_type": "display_data"
    },
    {
     "name": "stdout",
     "output_type": "stream",
     "text": [
      "Trial 4 - Val Loss: 67.4948\n",
      "\n",
      "Trial 5/10\n",
      "Parameter: {'learning_rate': 0.05, 'hidden_size': 128, 'attention_head_size': 2, 'dropout': 0.05, 'hidden_continuous_size': 16, 'output_size': 7}\n"
     ]
    },
    {
     "name": "stderr",
     "output_type": "stream",
     "text": [
      "GPU available: True (mps), used: False\n",
      "TPU available: False, using: 0 TPU cores\n",
      "HPU available: False, using: 0 HPUs\n",
      "\n",
      "   | Name                               | Type                            | Params | Mode \n",
      "------------------------------------------------------------------------------------------------\n",
      "0  | loss                               | QuantileLoss                    | 0      | train\n",
      "1  | logging_metrics                    | ModuleList                      | 0      | train\n",
      "2  | input_embeddings                   | MultiEmbedding                  | 2.0 M  | train\n",
      "3  | prescalers                         | ModuleDict                      | 896    | train\n",
      "4  | static_variable_selection          | VariableSelectionNetwork        | 17.8 K | train\n",
      "5  | encoder_variable_selection         | VariableSelectionNetwork        | 154 K  | train\n",
      "6  | decoder_variable_selection         | VariableSelectionNetwork        | 11.5 K | train\n",
      "7  | static_context_variable_selection  | GatedResidualNetwork            | 66.3 K | train\n",
      "8  | static_context_initial_hidden_lstm | GatedResidualNetwork            | 66.3 K | train\n",
      "9  | static_context_initial_cell_lstm   | GatedResidualNetwork            | 66.3 K | train\n",
      "10 | static_context_enrichment          | GatedResidualNetwork            | 66.3 K | train\n",
      "11 | lstm_encoder                       | LSTM                            | 132 K  | train\n",
      "12 | lstm_decoder                       | LSTM                            | 132 K  | train\n",
      "13 | post_lstm_gate_encoder             | GatedLinearUnit                 | 33.0 K | train\n",
      "14 | post_lstm_add_norm_encoder         | AddNorm                         | 256    | train\n",
      "15 | static_enrichment                  | GatedResidualNetwork            | 82.7 K | train\n",
      "16 | multihead_attn                     | InterpretableMultiHeadAttention | 49.5 K | train\n",
      "17 | post_attn_gate_norm                | GateAddNorm                     | 33.3 K | train\n",
      "18 | pos_wise_ff                        | GatedResidualNetwork            | 66.3 K | train\n",
      "19 | pre_output_gate_norm               | GateAddNorm                     | 33.3 K | train\n",
      "20 | output_layer                       | Linear                          | 903    | train\n",
      "------------------------------------------------------------------------------------------------\n",
      "3.1 M     Trainable params\n",
      "0         Non-trainable params\n",
      "3.1 M     Total params\n",
      "12.212    Total estimated model params size (MB)\n",
      "610       Modules in train mode\n",
      "0         Modules in eval mode\n",
      "`Trainer.fit` stopped: `max_epochs=5` reached.\n"
     ]
    },
    {
     "data": {
      "text/html": [
       "<pre style=\"white-space:pre;overflow-x:auto;line-height:normal;font-family:Menlo,'DejaVu Sans Mono',consolas,'Courier New',monospace\">┏━━━━━━━━━━━━━━━━━━━━━━━━━━━┳━━━━━━━━━━━━━━━━━━━━━━━━━━━┓\n",
       "┃<span style=\"font-weight: bold\">      Validate metric      </span>┃<span style=\"font-weight: bold\">       DataLoader 0        </span>┃\n",
       "┡━━━━━━━━━━━━━━━━━━━━━━━━━━━╇━━━━━━━━━━━━━━━━━━━━━━━━━━━┩\n",
       "│<span style=\"color: #008080; text-decoration-color: #008080\">          val_MAE          </span>│<span style=\"color: #800080; text-decoration-color: #800080\">     53.08723068237305     </span>│\n",
       "│<span style=\"color: #008080; text-decoration-color: #008080\">         val_MAPE          </span>│<span style=\"color: #800080; text-decoration-color: #800080\">    0.9663479328155518     </span>│\n",
       "│<span style=\"color: #008080; text-decoration-color: #008080\">         val_RMSE          </span>│<span style=\"color: #800080; text-decoration-color: #800080\">     83.45801544189453     </span>│\n",
       "│<span style=\"color: #008080; text-decoration-color: #008080\">         val_SMAPE         </span>│<span style=\"color: #800080; text-decoration-color: #800080\">     1.082358479499817     </span>│\n",
       "│<span style=\"color: #008080; text-decoration-color: #008080\">         val_loss          </span>│<span style=\"color: #800080; text-decoration-color: #800080\">    25.726348876953125     </span>│\n",
       "└───────────────────────────┴───────────────────────────┘\n",
       "</pre>\n"
      ],
      "text/plain": [
       "┏━━━━━━━━━━━━━━━━━━━━━━━━━━━┳━━━━━━━━━━━━━━━━━━━━━━━━━━━┓\n",
       "┃\u001b[1m \u001b[0m\u001b[1m     Validate metric     \u001b[0m\u001b[1m \u001b[0m┃\u001b[1m \u001b[0m\u001b[1m      DataLoader 0       \u001b[0m\u001b[1m \u001b[0m┃\n",
       "┡━━━━━━━━━━━━━━━━━━━━━━━━━━━╇━━━━━━━━━━━━━━━━━━━━━━━━━━━┩\n",
       "│\u001b[36m \u001b[0m\u001b[36m         val_MAE         \u001b[0m\u001b[36m \u001b[0m│\u001b[35m \u001b[0m\u001b[35m    53.08723068237305    \u001b[0m\u001b[35m \u001b[0m│\n",
       "│\u001b[36m \u001b[0m\u001b[36m        val_MAPE         \u001b[0m\u001b[36m \u001b[0m│\u001b[35m \u001b[0m\u001b[35m   0.9663479328155518    \u001b[0m\u001b[35m \u001b[0m│\n",
       "│\u001b[36m \u001b[0m\u001b[36m        val_RMSE         \u001b[0m\u001b[36m \u001b[0m│\u001b[35m \u001b[0m\u001b[35m    83.45801544189453    \u001b[0m\u001b[35m \u001b[0m│\n",
       "│\u001b[36m \u001b[0m\u001b[36m        val_SMAPE        \u001b[0m\u001b[36m \u001b[0m│\u001b[35m \u001b[0m\u001b[35m    1.082358479499817    \u001b[0m\u001b[35m \u001b[0m│\n",
       "│\u001b[36m \u001b[0m\u001b[36m        val_loss         \u001b[0m\u001b[36m \u001b[0m│\u001b[35m \u001b[0m\u001b[35m   25.726348876953125    \u001b[0m\u001b[35m \u001b[0m│\n",
       "└───────────────────────────┴───────────────────────────┘\n"
      ]
     },
     "metadata": {},
     "output_type": "display_data"
    },
    {
     "name": "stdout",
     "output_type": "stream",
     "text": [
      "Trial 5 - Val Loss: 25.7263\n",
      "\n",
      "Trial 6/10\n",
      "Parameter: {'learning_rate': 0.001, 'hidden_size': 64, 'attention_head_size': 4, 'dropout': 0.1, 'hidden_continuous_size': 16, 'output_size': 7}\n"
     ]
    },
    {
     "name": "stderr",
     "output_type": "stream",
     "text": [
      "GPU available: True (mps), used: False\n",
      "TPU available: False, using: 0 TPU cores\n",
      "HPU available: False, using: 0 HPUs\n",
      "\n",
      "   | Name                               | Type                            | Params | Mode \n",
      "------------------------------------------------------------------------------------------------\n",
      "0  | loss                               | QuantileLoss                    | 0      | train\n",
      "1  | logging_metrics                    | ModuleList                      | 0      | train\n",
      "2  | input_embeddings                   | MultiEmbedding                  | 1.3 M  | train\n",
      "3  | prescalers                         | ModuleDict                      | 896    | train\n",
      "4  | static_variable_selection          | VariableSelectionNetwork        | 9.9 K  | train\n",
      "5  | encoder_variable_selection         | VariableSelectionNetwork        | 90.5 K | train\n",
      "6  | decoder_variable_selection         | VariableSelectionNetwork        | 6.4 K  | train\n",
      "7  | static_context_variable_selection  | GatedResidualNetwork            | 16.8 K | train\n",
      "8  | static_context_initial_hidden_lstm | GatedResidualNetwork            | 16.8 K | train\n",
      "9  | static_context_initial_cell_lstm   | GatedResidualNetwork            | 16.8 K | train\n",
      "10 | static_context_enrichment          | GatedResidualNetwork            | 16.8 K | train\n",
      "11 | lstm_encoder                       | LSTM                            | 33.3 K | train\n",
      "12 | lstm_decoder                       | LSTM                            | 33.3 K | train\n",
      "13 | post_lstm_gate_encoder             | GatedLinearUnit                 | 8.3 K  | train\n",
      "14 | post_lstm_add_norm_encoder         | AddNorm                         | 128    | train\n",
      "15 | static_enrichment                  | GatedResidualNetwork            | 20.9 K | train\n",
      "16 | multihead_attn                     | InterpretableMultiHeadAttention | 10.4 K | train\n",
      "17 | post_attn_gate_norm                | GateAddNorm                     | 8.4 K  | train\n",
      "18 | pos_wise_ff                        | GatedResidualNetwork            | 16.8 K | train\n",
      "19 | pre_output_gate_norm               | GateAddNorm                     | 8.4 K  | train\n",
      "20 | output_layer                       | Linear                          | 455    | train\n",
      "------------------------------------------------------------------------------------------------\n",
      "1.6 M     Trainable params\n",
      "0         Non-trainable params\n",
      "1.6 M     Total params\n",
      "6.481     Total estimated model params size (MB)\n",
      "613       Modules in train mode\n",
      "0         Modules in eval mode\n",
      "`Trainer.fit` stopped: `max_epochs=5` reached.\n"
     ]
    },
    {
     "data": {
      "text/html": [
       "<pre style=\"white-space:pre;overflow-x:auto;line-height:normal;font-family:Menlo,'DejaVu Sans Mono',consolas,'Courier New',monospace\">┏━━━━━━━━━━━━━━━━━━━━━━━━━━━┳━━━━━━━━━━━━━━━━━━━━━━━━━━━┓\n",
       "┃<span style=\"font-weight: bold\">      Validate metric      </span>┃<span style=\"font-weight: bold\">       DataLoader 0        </span>┃\n",
       "┡━━━━━━━━━━━━━━━━━━━━━━━━━━━╇━━━━━━━━━━━━━━━━━━━━━━━━━━━┩\n",
       "│<span style=\"color: #008080; text-decoration-color: #008080\">          val_MAE          </span>│<span style=\"color: #800080; text-decoration-color: #800080\">     78.69819641113281     </span>│\n",
       "│<span style=\"color: #008080; text-decoration-color: #008080\">         val_MAPE          </span>│<span style=\"color: #800080; text-decoration-color: #800080\">    1.9252210855484009     </span>│\n",
       "│<span style=\"color: #008080; text-decoration-color: #008080\">         val_RMSE          </span>│<span style=\"color: #800080; text-decoration-color: #800080\">    116.47078704833984     </span>│\n",
       "│<span style=\"color: #008080; text-decoration-color: #008080\">         val_SMAPE         </span>│<span style=\"color: #800080; text-decoration-color: #800080\">    0.8462444543838501     </span>│\n",
       "│<span style=\"color: #008080; text-decoration-color: #008080\">         val_loss          </span>│<span style=\"color: #800080; text-decoration-color: #800080\">     67.51174926757812     </span>│\n",
       "└───────────────────────────┴───────────────────────────┘\n",
       "</pre>\n"
      ],
      "text/plain": [
       "┏━━━━━━━━━━━━━━━━━━━━━━━━━━━┳━━━━━━━━━━━━━━━━━━━━━━━━━━━┓\n",
       "┃\u001b[1m \u001b[0m\u001b[1m     Validate metric     \u001b[0m\u001b[1m \u001b[0m┃\u001b[1m \u001b[0m\u001b[1m      DataLoader 0       \u001b[0m\u001b[1m \u001b[0m┃\n",
       "┡━━━━━━━━━━━━━━━━━━━━━━━━━━━╇━━━━━━━━━━━━━━━━━━━━━━━━━━━┩\n",
       "│\u001b[36m \u001b[0m\u001b[36m         val_MAE         \u001b[0m\u001b[36m \u001b[0m│\u001b[35m \u001b[0m\u001b[35m    78.69819641113281    \u001b[0m\u001b[35m \u001b[0m│\n",
       "│\u001b[36m \u001b[0m\u001b[36m        val_MAPE         \u001b[0m\u001b[36m \u001b[0m│\u001b[35m \u001b[0m\u001b[35m   1.9252210855484009    \u001b[0m\u001b[35m \u001b[0m│\n",
       "│\u001b[36m \u001b[0m\u001b[36m        val_RMSE         \u001b[0m\u001b[36m \u001b[0m│\u001b[35m \u001b[0m\u001b[35m   116.47078704833984    \u001b[0m\u001b[35m \u001b[0m│\n",
       "│\u001b[36m \u001b[0m\u001b[36m        val_SMAPE        \u001b[0m\u001b[36m \u001b[0m│\u001b[35m \u001b[0m\u001b[35m   0.8462444543838501    \u001b[0m\u001b[35m \u001b[0m│\n",
       "│\u001b[36m \u001b[0m\u001b[36m        val_loss         \u001b[0m\u001b[36m \u001b[0m│\u001b[35m \u001b[0m\u001b[35m    67.51174926757812    \u001b[0m\u001b[35m \u001b[0m│\n",
       "└───────────────────────────┴───────────────────────────┘\n"
      ]
     },
     "metadata": {},
     "output_type": "display_data"
    },
    {
     "name": "stdout",
     "output_type": "stream",
     "text": [
      "Trial 6 - Val Loss: 67.5117\n",
      "\n",
      "Trial 7/10\n",
      "Parameter: {'learning_rate': 0.005, 'hidden_size': 128, 'attention_head_size': 2, 'dropout': 0.1, 'hidden_continuous_size': 8, 'output_size': 7}\n"
     ]
    },
    {
     "name": "stderr",
     "output_type": "stream",
     "text": [
      "GPU available: True (mps), used: False\n",
      "TPU available: False, using: 0 TPU cores\n",
      "HPU available: False, using: 0 HPUs\n",
      "\n",
      "   | Name                               | Type                            | Params | Mode \n",
      "------------------------------------------------------------------------------------------------\n",
      "0  | loss                               | QuantileLoss                    | 0      | train\n",
      "1  | logging_metrics                    | ModuleList                      | 0      | train\n",
      "2  | input_embeddings                   | MultiEmbedding                  | 2.0 M  | train\n",
      "3  | prescalers                         | ModuleDict                      | 448    | train\n",
      "4  | static_variable_selection          | VariableSelectionNetwork        | 10.3 K | train\n",
      "5  | encoder_variable_selection         | VariableSelectionNetwork        | 87.9 K | train\n",
      "6  | decoder_variable_selection         | VariableSelectionNetwork        | 6.5 K  | train\n",
      "7  | static_context_variable_selection  | GatedResidualNetwork            | 66.3 K | train\n",
      "8  | static_context_initial_hidden_lstm | GatedResidualNetwork            | 66.3 K | train\n",
      "9  | static_context_initial_cell_lstm   | GatedResidualNetwork            | 66.3 K | train\n",
      "10 | static_context_enrichment          | GatedResidualNetwork            | 66.3 K | train\n",
      "11 | lstm_encoder                       | LSTM                            | 132 K  | train\n",
      "12 | lstm_decoder                       | LSTM                            | 132 K  | train\n",
      "13 | post_lstm_gate_encoder             | GatedLinearUnit                 | 33.0 K | train\n",
      "14 | post_lstm_add_norm_encoder         | AddNorm                         | 256    | train\n",
      "15 | static_enrichment                  | GatedResidualNetwork            | 82.7 K | train\n",
      "16 | multihead_attn                     | InterpretableMultiHeadAttention | 49.5 K | train\n",
      "17 | post_attn_gate_norm                | GateAddNorm                     | 33.3 K | train\n",
      "18 | pos_wise_ff                        | GatedResidualNetwork            | 66.3 K | train\n",
      "19 | pre_output_gate_norm               | GateAddNorm                     | 33.3 K | train\n",
      "20 | output_layer                       | Linear                          | 903    | train\n",
      "------------------------------------------------------------------------------------------------\n",
      "3.0 M     Trainable params\n",
      "0         Non-trainable params\n",
      "3.0 M     Total params\n",
      "11.896    Total estimated model params size (MB)\n",
      "610       Modules in train mode\n",
      "0         Modules in eval mode\n",
      "`Trainer.fit` stopped: `max_epochs=5` reached.\n"
     ]
    },
    {
     "data": {
      "text/html": [
       "<pre style=\"white-space:pre;overflow-x:auto;line-height:normal;font-family:Menlo,'DejaVu Sans Mono',consolas,'Courier New',monospace\">┏━━━━━━━━━━━━━━━━━━━━━━━━━━━┳━━━━━━━━━━━━━━━━━━━━━━━━━━━┓\n",
       "┃<span style=\"font-weight: bold\">      Validate metric      </span>┃<span style=\"font-weight: bold\">       DataLoader 0        </span>┃\n",
       "┡━━━━━━━━━━━━━━━━━━━━━━━━━━━╇━━━━━━━━━━━━━━━━━━━━━━━━━━━┩\n",
       "│<span style=\"color: #008080; text-decoration-color: #008080\">          val_MAE          </span>│<span style=\"color: #800080; text-decoration-color: #800080\">     60.1810188293457      </span>│\n",
       "│<span style=\"color: #008080; text-decoration-color: #008080\">         val_MAPE          </span>│<span style=\"color: #800080; text-decoration-color: #800080\">    1.2897931337356567     </span>│\n",
       "│<span style=\"color: #008080; text-decoration-color: #008080\">         val_RMSE          </span>│<span style=\"color: #800080; text-decoration-color: #800080\">     92.11439514160156     </span>│\n",
       "│<span style=\"color: #008080; text-decoration-color: #008080\">         val_SMAPE         </span>│<span style=\"color: #800080; text-decoration-color: #800080\">     1.170434594154358     </span>│\n",
       "│<span style=\"color: #008080; text-decoration-color: #008080\">         val_loss          </span>│<span style=\"color: #800080; text-decoration-color: #800080\">    32.312381744384766     </span>│\n",
       "└───────────────────────────┴───────────────────────────┘\n",
       "</pre>\n"
      ],
      "text/plain": [
       "┏━━━━━━━━━━━━━━━━━━━━━━━━━━━┳━━━━━━━━━━━━━━━━━━━━━━━━━━━┓\n",
       "┃\u001b[1m \u001b[0m\u001b[1m     Validate metric     \u001b[0m\u001b[1m \u001b[0m┃\u001b[1m \u001b[0m\u001b[1m      DataLoader 0       \u001b[0m\u001b[1m \u001b[0m┃\n",
       "┡━━━━━━━━━━━━━━━━━━━━━━━━━━━╇━━━━━━━━━━━━━━━━━━━━━━━━━━━┩\n",
       "│\u001b[36m \u001b[0m\u001b[36m         val_MAE         \u001b[0m\u001b[36m \u001b[0m│\u001b[35m \u001b[0m\u001b[35m    60.1810188293457     \u001b[0m\u001b[35m \u001b[0m│\n",
       "│\u001b[36m \u001b[0m\u001b[36m        val_MAPE         \u001b[0m\u001b[36m \u001b[0m│\u001b[35m \u001b[0m\u001b[35m   1.2897931337356567    \u001b[0m\u001b[35m \u001b[0m│\n",
       "│\u001b[36m \u001b[0m\u001b[36m        val_RMSE         \u001b[0m\u001b[36m \u001b[0m│\u001b[35m \u001b[0m\u001b[35m    92.11439514160156    \u001b[0m\u001b[35m \u001b[0m│\n",
       "│\u001b[36m \u001b[0m\u001b[36m        val_SMAPE        \u001b[0m\u001b[36m \u001b[0m│\u001b[35m \u001b[0m\u001b[35m    1.170434594154358    \u001b[0m\u001b[35m \u001b[0m│\n",
       "│\u001b[36m \u001b[0m\u001b[36m        val_loss         \u001b[0m\u001b[36m \u001b[0m│\u001b[35m \u001b[0m\u001b[35m   32.312381744384766    \u001b[0m\u001b[35m \u001b[0m│\n",
       "└───────────────────────────┴───────────────────────────┘\n"
      ]
     },
     "metadata": {},
     "output_type": "display_data"
    },
    {
     "name": "stdout",
     "output_type": "stream",
     "text": [
      "Trial 7 - Val Loss: 32.3124\n",
      "\n",
      "Trial 8/10\n",
      "Parameter: {'learning_rate': 0.01, 'hidden_size': 128, 'attention_head_size': 8, 'dropout': 0.3, 'hidden_continuous_size': 32, 'output_size': 7}\n"
     ]
    },
    {
     "name": "stderr",
     "output_type": "stream",
     "text": [
      "GPU available: True (mps), used: False\n",
      "TPU available: False, using: 0 TPU cores\n",
      "HPU available: False, using: 0 HPUs\n",
      "\n",
      "   | Name                               | Type                            | Params | Mode \n",
      "------------------------------------------------------------------------------------------------\n",
      "0  | loss                               | QuantileLoss                    | 0      | train\n",
      "1  | logging_metrics                    | ModuleList                      | 0      | train\n",
      "2  | input_embeddings                   | MultiEmbedding                  | 2.0 M  | train\n",
      "3  | prescalers                         | ModuleDict                      | 1.8 K  | train\n",
      "4  | static_variable_selection          | VariableSelectionNetwork        | 35.0 K | train\n",
      "5  | encoder_variable_selection         | VariableSelectionNetwork        | 306 K  | train\n",
      "6  | decoder_variable_selection         | VariableSelectionNetwork        | 22.9 K | train\n",
      "7  | static_context_variable_selection  | GatedResidualNetwork            | 66.3 K | train\n",
      "8  | static_context_initial_hidden_lstm | GatedResidualNetwork            | 66.3 K | train\n",
      "9  | static_context_initial_cell_lstm   | GatedResidualNetwork            | 66.3 K | train\n",
      "10 | static_context_enrichment          | GatedResidualNetwork            | 66.3 K | train\n",
      "11 | lstm_encoder                       | LSTM                            | 132 K  | train\n",
      "12 | lstm_decoder                       | LSTM                            | 132 K  | train\n",
      "13 | post_lstm_gate_encoder             | GatedLinearUnit                 | 33.0 K | train\n",
      "14 | post_lstm_add_norm_encoder         | AddNorm                         | 256    | train\n",
      "15 | static_enrichment                  | GatedResidualNetwork            | 82.7 K | train\n",
      "16 | multihead_attn                     | InterpretableMultiHeadAttention | 37.1 K | train\n",
      "17 | post_attn_gate_norm                | GateAddNorm                     | 33.3 K | train\n",
      "18 | pos_wise_ff                        | GatedResidualNetwork            | 66.3 K | train\n",
      "19 | pre_output_gate_norm               | GateAddNorm                     | 33.3 K | train\n",
      "20 | output_layer                       | Linear                          | 903    | train\n",
      "------------------------------------------------------------------------------------------------\n",
      "3.2 M     Trainable params\n",
      "0         Non-trainable params\n",
      "3.2 M     Total params\n",
      "12.887    Total estimated model params size (MB)\n",
      "622       Modules in train mode\n",
      "0         Modules in eval mode\n",
      "`Trainer.fit` stopped: `max_epochs=5` reached.\n"
     ]
    },
    {
     "data": {
      "text/html": [
       "<pre style=\"white-space:pre;overflow-x:auto;line-height:normal;font-family:Menlo,'DejaVu Sans Mono',consolas,'Courier New',monospace\">┏━━━━━━━━━━━━━━━━━━━━━━━━━━━┳━━━━━━━━━━━━━━━━━━━━━━━━━━━┓\n",
       "┃<span style=\"font-weight: bold\">      Validate metric      </span>┃<span style=\"font-weight: bold\">       DataLoader 0        </span>┃\n",
       "┡━━━━━━━━━━━━━━━━━━━━━━━━━━━╇━━━━━━━━━━━━━━━━━━━━━━━━━━━┩\n",
       "│<span style=\"color: #008080; text-decoration-color: #008080\">          val_MAE          </span>│<span style=\"color: #800080; text-decoration-color: #800080\">     56.43339920043945     </span>│\n",
       "│<span style=\"color: #008080; text-decoration-color: #008080\">         val_MAPE          </span>│<span style=\"color: #800080; text-decoration-color: #800080\">     1.366641640663147     </span>│\n",
       "│<span style=\"color: #008080; text-decoration-color: #008080\">         val_RMSE          </span>│<span style=\"color: #800080; text-decoration-color: #800080\">     93.10116577148438     </span>│\n",
       "│<span style=\"color: #008080; text-decoration-color: #008080\">         val_SMAPE         </span>│<span style=\"color: #800080; text-decoration-color: #800080\">    0.7656881213188171     </span>│\n",
       "│<span style=\"color: #008080; text-decoration-color: #008080\">         val_loss          </span>│<span style=\"color: #800080; text-decoration-color: #800080\">     27.56707191467285     </span>│\n",
       "└───────────────────────────┴───────────────────────────┘\n",
       "</pre>\n"
      ],
      "text/plain": [
       "┏━━━━━━━━━━━━━━━━━━━━━━━━━━━┳━━━━━━━━━━━━━━━━━━━━━━━━━━━┓\n",
       "┃\u001b[1m \u001b[0m\u001b[1m     Validate metric     \u001b[0m\u001b[1m \u001b[0m┃\u001b[1m \u001b[0m\u001b[1m      DataLoader 0       \u001b[0m\u001b[1m \u001b[0m┃\n",
       "┡━━━━━━━━━━━━━━━━━━━━━━━━━━━╇━━━━━━━━━━━━━━━━━━━━━━━━━━━┩\n",
       "│\u001b[36m \u001b[0m\u001b[36m         val_MAE         \u001b[0m\u001b[36m \u001b[0m│\u001b[35m \u001b[0m\u001b[35m    56.43339920043945    \u001b[0m\u001b[35m \u001b[0m│\n",
       "│\u001b[36m \u001b[0m\u001b[36m        val_MAPE         \u001b[0m\u001b[36m \u001b[0m│\u001b[35m \u001b[0m\u001b[35m    1.366641640663147    \u001b[0m\u001b[35m \u001b[0m│\n",
       "│\u001b[36m \u001b[0m\u001b[36m        val_RMSE         \u001b[0m\u001b[36m \u001b[0m│\u001b[35m \u001b[0m\u001b[35m    93.10116577148438    \u001b[0m\u001b[35m \u001b[0m│\n",
       "│\u001b[36m \u001b[0m\u001b[36m        val_SMAPE        \u001b[0m\u001b[36m \u001b[0m│\u001b[35m \u001b[0m\u001b[35m   0.7656881213188171    \u001b[0m\u001b[35m \u001b[0m│\n",
       "│\u001b[36m \u001b[0m\u001b[36m        val_loss         \u001b[0m\u001b[36m \u001b[0m│\u001b[35m \u001b[0m\u001b[35m    27.56707191467285    \u001b[0m\u001b[35m \u001b[0m│\n",
       "└───────────────────────────┴───────────────────────────┘\n"
      ]
     },
     "metadata": {},
     "output_type": "display_data"
    },
    {
     "name": "stdout",
     "output_type": "stream",
     "text": [
      "Trial 8 - Val Loss: 27.5671\n",
      "\n",
      "Trial 9/10\n",
      "Parameter: {'learning_rate': 0.001, 'hidden_size': 128, 'attention_head_size': 4, 'dropout': 0.2, 'hidden_continuous_size': 16, 'output_size': 7}\n"
     ]
    },
    {
     "name": "stderr",
     "output_type": "stream",
     "text": [
      "GPU available: True (mps), used: False\n",
      "TPU available: False, using: 0 TPU cores\n",
      "HPU available: False, using: 0 HPUs\n",
      "\n",
      "   | Name                               | Type                            | Params | Mode \n",
      "------------------------------------------------------------------------------------------------\n",
      "0  | loss                               | QuantileLoss                    | 0      | train\n",
      "1  | logging_metrics                    | ModuleList                      | 0      | train\n",
      "2  | input_embeddings                   | MultiEmbedding                  | 2.0 M  | train\n",
      "3  | prescalers                         | ModuleDict                      | 896    | train\n",
      "4  | static_variable_selection          | VariableSelectionNetwork        | 17.8 K | train\n",
      "5  | encoder_variable_selection         | VariableSelectionNetwork        | 154 K  | train\n",
      "6  | decoder_variable_selection         | VariableSelectionNetwork        | 11.5 K | train\n",
      "7  | static_context_variable_selection  | GatedResidualNetwork            | 66.3 K | train\n",
      "8  | static_context_initial_hidden_lstm | GatedResidualNetwork            | 66.3 K | train\n",
      "9  | static_context_initial_cell_lstm   | GatedResidualNetwork            | 66.3 K | train\n",
      "10 | static_context_enrichment          | GatedResidualNetwork            | 66.3 K | train\n",
      "11 | lstm_encoder                       | LSTM                            | 132 K  | train\n",
      "12 | lstm_decoder                       | LSTM                            | 132 K  | train\n",
      "13 | post_lstm_gate_encoder             | GatedLinearUnit                 | 33.0 K | train\n",
      "14 | post_lstm_add_norm_encoder         | AddNorm                         | 256    | train\n",
      "15 | static_enrichment                  | GatedResidualNetwork            | 82.7 K | train\n",
      "16 | multihead_attn                     | InterpretableMultiHeadAttention | 41.2 K | train\n",
      "17 | post_attn_gate_norm                | GateAddNorm                     | 33.3 K | train\n",
      "18 | pos_wise_ff                        | GatedResidualNetwork            | 66.3 K | train\n",
      "19 | pre_output_gate_norm               | GateAddNorm                     | 33.3 K | train\n",
      "20 | output_layer                       | Linear                          | 903    | train\n",
      "------------------------------------------------------------------------------------------------\n",
      "3.0 M     Trainable params\n",
      "0         Non-trainable params\n",
      "3.0 M     Total params\n",
      "12.180    Total estimated model params size (MB)\n",
      "614       Modules in train mode\n",
      "0         Modules in eval mode\n",
      "`Trainer.fit` stopped: `max_epochs=5` reached.\n"
     ]
    },
    {
     "data": {
      "text/html": [
       "<pre style=\"white-space:pre;overflow-x:auto;line-height:normal;font-family:Menlo,'DejaVu Sans Mono',consolas,'Courier New',monospace\">┏━━━━━━━━━━━━━━━━━━━━━━━━━━━┳━━━━━━━━━━━━━━━━━━━━━━━━━━━┓\n",
       "┃<span style=\"font-weight: bold\">      Validate metric      </span>┃<span style=\"font-weight: bold\">       DataLoader 0        </span>┃\n",
       "┡━━━━━━━━━━━━━━━━━━━━━━━━━━━╇━━━━━━━━━━━━━━━━━━━━━━━━━━━┩\n",
       "│<span style=\"color: #008080; text-decoration-color: #008080\">          val_MAE          </span>│<span style=\"color: #800080; text-decoration-color: #800080\">     78.76361846923828     </span>│\n",
       "│<span style=\"color: #008080; text-decoration-color: #008080\">         val_MAPE          </span>│<span style=\"color: #800080; text-decoration-color: #800080\">    1.8980129957199097     </span>│\n",
       "│<span style=\"color: #008080; text-decoration-color: #008080\">         val_RMSE          </span>│<span style=\"color: #800080; text-decoration-color: #800080\">    116.48558044433594     </span>│\n",
       "│<span style=\"color: #008080; text-decoration-color: #008080\">         val_SMAPE         </span>│<span style=\"color: #800080; text-decoration-color: #800080\">    0.8663915395736694     </span>│\n",
       "│<span style=\"color: #008080; text-decoration-color: #008080\">         val_loss          </span>│<span style=\"color: #800080; text-decoration-color: #800080\">     60.63336181640625     </span>│\n",
       "└───────────────────────────┴───────────────────────────┘\n",
       "</pre>\n"
      ],
      "text/plain": [
       "┏━━━━━━━━━━━━━━━━━━━━━━━━━━━┳━━━━━━━━━━━━━━━━━━━━━━━━━━━┓\n",
       "┃\u001b[1m \u001b[0m\u001b[1m     Validate metric     \u001b[0m\u001b[1m \u001b[0m┃\u001b[1m \u001b[0m\u001b[1m      DataLoader 0       \u001b[0m\u001b[1m \u001b[0m┃\n",
       "┡━━━━━━━━━━━━━━━━━━━━━━━━━━━╇━━━━━━━━━━━━━━━━━━━━━━━━━━━┩\n",
       "│\u001b[36m \u001b[0m\u001b[36m         val_MAE         \u001b[0m\u001b[36m \u001b[0m│\u001b[35m \u001b[0m\u001b[35m    78.76361846923828    \u001b[0m\u001b[35m \u001b[0m│\n",
       "│\u001b[36m \u001b[0m\u001b[36m        val_MAPE         \u001b[0m\u001b[36m \u001b[0m│\u001b[35m \u001b[0m\u001b[35m   1.8980129957199097    \u001b[0m\u001b[35m \u001b[0m│\n",
       "│\u001b[36m \u001b[0m\u001b[36m        val_RMSE         \u001b[0m\u001b[36m \u001b[0m│\u001b[35m \u001b[0m\u001b[35m   116.48558044433594    \u001b[0m\u001b[35m \u001b[0m│\n",
       "│\u001b[36m \u001b[0m\u001b[36m        val_SMAPE        \u001b[0m\u001b[36m \u001b[0m│\u001b[35m \u001b[0m\u001b[35m   0.8663915395736694    \u001b[0m\u001b[35m \u001b[0m│\n",
       "│\u001b[36m \u001b[0m\u001b[36m        val_loss         \u001b[0m\u001b[36m \u001b[0m│\u001b[35m \u001b[0m\u001b[35m    60.63336181640625    \u001b[0m\u001b[35m \u001b[0m│\n",
       "└───────────────────────────┴───────────────────────────┘\n"
      ]
     },
     "metadata": {},
     "output_type": "display_data"
    },
    {
     "name": "stdout",
     "output_type": "stream",
     "text": [
      "Trial 9 - Val Loss: 60.6334\n",
      "\n",
      "Trial 10/10\n",
      "Parameter: {'learning_rate': 0.1, 'hidden_size': 32, 'attention_head_size': 4, 'dropout': 0.3, 'hidden_continuous_size': 8, 'output_size': 7}\n"
     ]
    },
    {
     "name": "stderr",
     "output_type": "stream",
     "text": [
      "GPU available: True (mps), used: False\n",
      "TPU available: False, using: 0 TPU cores\n",
      "HPU available: False, using: 0 HPUs\n",
      "\n",
      "   | Name                               | Type                            | Params | Mode \n",
      "------------------------------------------------------------------------------------------------\n",
      "0  | loss                               | QuantileLoss                    | 0      | train\n",
      "1  | logging_metrics                    | ModuleList                      | 0      | train\n",
      "2  | input_embeddings                   | MultiEmbedding                  | 653 K  | train\n",
      "3  | prescalers                         | ModuleDict                      | 448    | train\n",
      "4  | static_variable_selection          | VariableSelectionNetwork        | 3.1 K  | train\n",
      "5  | encoder_variable_selection         | VariableSelectionNetwork        | 30.3 K | train\n",
      "6  | decoder_variable_selection         | VariableSelectionNetwork        | 1.9 K  | train\n",
      "7  | static_context_variable_selection  | GatedResidualNetwork            | 4.3 K  | train\n",
      "8  | static_context_initial_hidden_lstm | GatedResidualNetwork            | 4.3 K  | train\n",
      "9  | static_context_initial_cell_lstm   | GatedResidualNetwork            | 4.3 K  | train\n",
      "10 | static_context_enrichment          | GatedResidualNetwork            | 4.3 K  | train\n",
      "11 | lstm_encoder                       | LSTM                            | 8.4 K  | train\n",
      "12 | lstm_decoder                       | LSTM                            | 8.4 K  | train\n",
      "13 | post_lstm_gate_encoder             | GatedLinearUnit                 | 2.1 K  | train\n",
      "14 | post_lstm_add_norm_encoder         | AddNorm                         | 64     | train\n",
      "15 | static_enrichment                  | GatedResidualNetwork            | 5.3 K  | train\n",
      "16 | multihead_attn                     | InterpretableMultiHeadAttention | 2.6 K  | train\n",
      "17 | post_attn_gate_norm                | GateAddNorm                     | 2.2 K  | train\n",
      "18 | pos_wise_ff                        | GatedResidualNetwork            | 4.3 K  | train\n",
      "19 | pre_output_gate_norm               | GateAddNorm                     | 2.2 K  | train\n",
      "20 | output_layer                       | Linear                          | 231    | train\n",
      "------------------------------------------------------------------------------------------------\n",
      "741 K     Trainable params\n",
      "0         Non-trainable params\n",
      "741 K     Total params\n",
      "2.965     Total estimated model params size (MB)\n",
      "613       Modules in train mode\n",
      "0         Modules in eval mode\n",
      "`Trainer.fit` stopped: `max_epochs=5` reached.\n"
     ]
    },
    {
     "data": {
      "text/html": [
       "<pre style=\"white-space:pre;overflow-x:auto;line-height:normal;font-family:Menlo,'DejaVu Sans Mono',consolas,'Courier New',monospace\">┏━━━━━━━━━━━━━━━━━━━━━━━━━━━┳━━━━━━━━━━━━━━━━━━━━━━━━━━━┓\n",
       "┃<span style=\"font-weight: bold\">      Validate metric      </span>┃<span style=\"font-weight: bold\">       DataLoader 0        </span>┃\n",
       "┡━━━━━━━━━━━━━━━━━━━━━━━━━━━╇━━━━━━━━━━━━━━━━━━━━━━━━━━━┩\n",
       "│<span style=\"color: #008080; text-decoration-color: #008080\">          val_MAE          </span>│<span style=\"color: #800080; text-decoration-color: #800080\">     78.6399154663086      </span>│\n",
       "│<span style=\"color: #008080; text-decoration-color: #008080\">         val_MAPE          </span>│<span style=\"color: #800080; text-decoration-color: #800080\">    1.9587898254394531     </span>│\n",
       "│<span style=\"color: #008080; text-decoration-color: #008080\">         val_RMSE          </span>│<span style=\"color: #800080; text-decoration-color: #800080\">    116.51493072509766     </span>│\n",
       "│<span style=\"color: #008080; text-decoration-color: #008080\">         val_SMAPE         </span>│<span style=\"color: #800080; text-decoration-color: #800080\">    0.8230990171432495     </span>│\n",
       "│<span style=\"color: #008080; text-decoration-color: #008080\">         val_loss          </span>│<span style=\"color: #800080; text-decoration-color: #800080\">     38.34830856323242     </span>│\n",
       "└───────────────────────────┴───────────────────────────┘\n",
       "</pre>\n"
      ],
      "text/plain": [
       "┏━━━━━━━━━━━━━━━━━━━━━━━━━━━┳━━━━━━━━━━━━━━━━━━━━━━━━━━━┓\n",
       "┃\u001b[1m \u001b[0m\u001b[1m     Validate metric     \u001b[0m\u001b[1m \u001b[0m┃\u001b[1m \u001b[0m\u001b[1m      DataLoader 0       \u001b[0m\u001b[1m \u001b[0m┃\n",
       "┡━━━━━━━━━━━━━━━━━━━━━━━━━━━╇━━━━━━━━━━━━━━━━━━━━━━━━━━━┩\n",
       "│\u001b[36m \u001b[0m\u001b[36m         val_MAE         \u001b[0m\u001b[36m \u001b[0m│\u001b[35m \u001b[0m\u001b[35m    78.6399154663086     \u001b[0m\u001b[35m \u001b[0m│\n",
       "│\u001b[36m \u001b[0m\u001b[36m        val_MAPE         \u001b[0m\u001b[36m \u001b[0m│\u001b[35m \u001b[0m\u001b[35m   1.9587898254394531    \u001b[0m\u001b[35m \u001b[0m│\n",
       "│\u001b[36m \u001b[0m\u001b[36m        val_RMSE         \u001b[0m\u001b[36m \u001b[0m│\u001b[35m \u001b[0m\u001b[35m   116.51493072509766    \u001b[0m\u001b[35m \u001b[0m│\n",
       "│\u001b[36m \u001b[0m\u001b[36m        val_SMAPE        \u001b[0m\u001b[36m \u001b[0m│\u001b[35m \u001b[0m\u001b[35m   0.8230990171432495    \u001b[0m\u001b[35m \u001b[0m│\n",
       "│\u001b[36m \u001b[0m\u001b[36m        val_loss         \u001b[0m\u001b[36m \u001b[0m│\u001b[35m \u001b[0m\u001b[35m    38.34830856323242    \u001b[0m\u001b[35m \u001b[0m│\n",
       "└───────────────────────────┴───────────────────────────┘\n"
      ]
     },
     "metadata": {},
     "output_type": "display_data"
    },
    {
     "name": "stdout",
     "output_type": "stream",
     "text": [
      "Trial 10 - Val Loss: 38.3483\n",
      "\n",
      "Optimization completed!\n",
      "Best parameters: {'learning_rate': 0.05, 'hidden_size': 128, 'attention_head_size': 2, 'dropout': 0.05, 'hidden_continuous_size': 16, 'output_size': 7}\n",
      "Best score: 25.7263\n",
      "\n",
      "Training with best parameters: {'learning_rate': 0.05, 'hidden_size': 128, 'attention_head_size': 2, 'dropout': 0.05, 'hidden_continuous_size': 16, 'output_size': 7}\n"
     ]
    },
    {
     "name": "stderr",
     "output_type": "stream",
     "text": [
      "GPU available: True (mps), used: False\n",
      "TPU available: False, using: 0 TPU cores\n",
      "HPU available: False, using: 0 HPUs\n"
     ]
    },
    {
     "name": "stdout",
     "output_type": "stream",
     "text": [
      "Number of parameters in network: 3053.1k\n",
      "Start training with optimized parameters...\n"
     ]
    },
    {
     "name": "stderr",
     "output_type": "stream",
     "text": [
      "/Library/Frameworks/Python.framework/Versions/3.12/lib/python3.12/site-packages/lightning/pytorch/callbacks/model_checkpoint.py:654: Checkpoint directory /Users/florianrunkel/Documents/02_Uni/04_Masterarbeit/masterthesis/backend/ml_pipe/models/tft/checkpoints exists and is not empty.\n",
      "\n",
      "   | Name                               | Type                            | Params | Mode \n",
      "------------------------------------------------------------------------------------------------\n",
      "0  | loss                               | QuantileLoss                    | 0      | train\n",
      "1  | logging_metrics                    | ModuleList                      | 0      | train\n",
      "2  | input_embeddings                   | MultiEmbedding                  | 2.0 M  | train\n",
      "3  | prescalers                         | ModuleDict                      | 896    | train\n",
      "4  | static_variable_selection          | VariableSelectionNetwork        | 17.8 K | train\n",
      "5  | encoder_variable_selection         | VariableSelectionNetwork        | 154 K  | train\n",
      "6  | decoder_variable_selection         | VariableSelectionNetwork        | 11.5 K | train\n",
      "7  | static_context_variable_selection  | GatedResidualNetwork            | 66.3 K | train\n",
      "8  | static_context_initial_hidden_lstm | GatedResidualNetwork            | 66.3 K | train\n",
      "9  | static_context_initial_cell_lstm   | GatedResidualNetwork            | 66.3 K | train\n",
      "10 | static_context_enrichment          | GatedResidualNetwork            | 66.3 K | train\n",
      "11 | lstm_encoder                       | LSTM                            | 132 K  | train\n",
      "12 | lstm_decoder                       | LSTM                            | 132 K  | train\n",
      "13 | post_lstm_gate_encoder             | GatedLinearUnit                 | 33.0 K | train\n",
      "14 | post_lstm_add_norm_encoder         | AddNorm                         | 256    | train\n",
      "15 | static_enrichment                  | GatedResidualNetwork            | 82.7 K | train\n",
      "16 | multihead_attn                     | InterpretableMultiHeadAttention | 49.5 K | train\n",
      "17 | post_attn_gate_norm                | GateAddNorm                     | 33.3 K | train\n",
      "18 | pos_wise_ff                        | GatedResidualNetwork            | 66.3 K | train\n",
      "19 | pre_output_gate_norm               | GateAddNorm                     | 33.3 K | train\n",
      "20 | output_layer                       | Linear                          | 903    | train\n",
      "------------------------------------------------------------------------------------------------\n",
      "3.1 M     Trainable params\n",
      "0         Non-trainable params\n",
      "3.1 M     Total params\n",
      "12.212    Total estimated model params size (MB)\n",
      "610       Modules in train mode\n",
      "0         Modules in eval mode\n"
     ]
    },
    {
     "name": "stdout",
     "output_type": "stream",
     "text": [
      "Sanity Checking: |          | 0/? [00:00<?, ?it/s]"
     ]
    },
    {
     "name": "stderr",
     "output_type": "stream",
     "text": [
      "/Library/Frameworks/Python.framework/Versions/3.12/lib/python3.12/site-packages/lightning/pytorch/trainer/connectors/data_connector.py:419: Consider setting `persistent_workers=True` in 'val_dataloader' to speed up the dataloader worker initialization.\n"
     ]
    },
    {
     "name": "stdout",
     "output_type": "stream",
     "text": [
      "                                                                           \r"
     ]
    },
    {
     "name": "stderr",
     "output_type": "stream",
     "text": [
      "/Library/Frameworks/Python.framework/Versions/3.12/lib/python3.12/site-packages/lightning/pytorch/trainer/connectors/data_connector.py:419: Consider setting `persistent_workers=True` in 'train_dataloader' to speed up the dataloader worker initialization.\n"
     ]
    },
    {
     "name": "stdout",
     "output_type": "stream",
     "text": [
      "Epoch 0: 100%|██████████| 2145/2145 [02:25<00:00, 14.73it/s, v_num=25, train_loss_step=33.60]Val Loss (Epoch 0): 38.7382\n",
      "Epoch 0: 100%|██████████| 2145/2145 [02:40<00:00, 13.34it/s, v_num=25, train_loss_step=33.60, val_loss=38.70]Train Loss (Epoch 0): 42.9578\n",
      "Epoch 1: 100%|██████████| 2145/2145 [02:26<00:00, 14.68it/s, v_num=25, train_loss_step=29.30, val_loss=38.70, train_loss_epoch=43.00]Val Loss (Epoch 1): 31.9658\n",
      "Epoch 1: 100%|██████████| 2145/2145 [02:42<00:00, 13.22it/s, v_num=25, train_loss_step=29.30, val_loss=32.00, train_loss_epoch=43.00]Train Loss (Epoch 1): 35.5234\n",
      "Epoch 2: 100%|██████████| 2145/2145 [02:17<00:00, 15.57it/s, v_num=25, train_loss_step=30.50, val_loss=32.00, train_loss_epoch=35.50]Val Loss (Epoch 2): 28.7957\n",
      "Epoch 2: 100%|██████████| 2145/2145 [02:31<00:00, 14.15it/s, v_num=25, train_loss_step=30.50, val_loss=28.80, train_loss_epoch=35.50]Train Loss (Epoch 2): 30.0634\n",
      "Epoch 3: 100%|██████████| 2145/2145 [02:11<00:00, 16.30it/s, v_num=25, train_loss_step=22.80, val_loss=28.80, train_loss_epoch=30.10]Val Loss (Epoch 3): 25.9068\n",
      "Epoch 3: 100%|██████████| 2145/2145 [02:27<00:00, 14.58it/s, v_num=25, train_loss_step=22.80, val_loss=25.90, train_loss_epoch=30.10]Train Loss (Epoch 3): 25.6996\n",
      "Epoch 4: 100%|██████████| 2145/2145 [02:17<00:00, 15.62it/s, v_num=25, train_loss_step=24.20, val_loss=25.90, train_loss_epoch=25.70]Val Loss (Epoch 4): 25.8945\n",
      "Epoch 4: 100%|██████████| 2145/2145 [02:31<00:00, 14.17it/s, v_num=25, train_loss_step=24.20, val_loss=25.90, train_loss_epoch=25.70]Train Loss (Epoch 4): 22.7205\n",
      "Epoch 5: 100%|██████████| 2145/2145 [02:11<00:00, 16.29it/s, v_num=25, train_loss_step=18.50, val_loss=25.90, train_loss_epoch=22.70]Val Loss (Epoch 5): 25.1436\n",
      "Epoch 5: 100%|██████████| 2145/2145 [02:25<00:00, 14.74it/s, v_num=25, train_loss_step=18.50, val_loss=25.10, train_loss_epoch=22.70]Train Loss (Epoch 5): 21.0167\n",
      "Epoch 6: 100%|██████████| 2145/2145 [02:18<00:00, 15.53it/s, v_num=25, train_loss_step=17.80, val_loss=25.10, train_loss_epoch=21.00]Val Loss (Epoch 6): 26.0989\n",
      "Epoch 6: 100%|██████████| 2145/2145 [02:33<00:00, 14.01it/s, v_num=25, train_loss_step=17.80, val_loss=26.10, train_loss_epoch=21.00]Train Loss (Epoch 6): 19.9001\n",
      "Epoch 7: 100%|██████████| 2145/2145 [02:14<00:00, 15.92it/s, v_num=25, train_loss_step=14.50, val_loss=26.10, train_loss_epoch=19.90]Val Loss (Epoch 7): 25.6493\n",
      "Epoch 7: 100%|██████████| 2145/2145 [02:28<00:00, 14.41it/s, v_num=25, train_loss_step=14.50, val_loss=25.60, train_loss_epoch=19.90]Train Loss (Epoch 7): 19.1579\n",
      "Epoch 8: 100%|██████████| 2145/2145 [02:14<00:00, 15.94it/s, v_num=25, train_loss_step=18.80, val_loss=25.60, train_loss_epoch=19.20]Val Loss (Epoch 8): 26.0696\n",
      "Epoch 8: 100%|██████████| 2145/2145 [02:28<00:00, 14.41it/s, v_num=25, train_loss_step=18.80, val_loss=26.10, train_loss_epoch=19.20]Train Loss (Epoch 8): 18.6401\n",
      "Epoch 9: 100%|██████████| 2145/2145 [02:17<00:00, 15.56it/s, v_num=25, train_loss_step=16.60, val_loss=26.10, train_loss_epoch=18.60]Val Loss (Epoch 9): 25.7650\n",
      "Epoch 9: 100%|██████████| 2145/2145 [02:32<00:00, 14.11it/s, v_num=25, train_loss_step=16.60, val_loss=25.80, train_loss_epoch=18.60]Train Loss (Epoch 9): 18.1891\n",
      "Epoch 10: 100%|██████████| 2145/2145 [02:16<00:00, 15.74it/s, v_num=25, train_loss_step=17.00, val_loss=25.80, train_loss_epoch=18.20]Val Loss (Epoch 10): 25.3164\n",
      "Epoch 10: 100%|██████████| 2145/2145 [02:30<00:00, 14.25it/s, v_num=25, train_loss_step=17.00, val_loss=25.30, train_loss_epoch=18.20]Train Loss (Epoch 10): 17.7895\n",
      "Epoch 11: 100%|██████████| 2145/2145 [02:17<00:00, 15.62it/s, v_num=25, train_loss_step=23.20, val_loss=25.30, train_loss_epoch=17.80]Val Loss (Epoch 11): 25.2269\n",
      "Epoch 11: 100%|██████████| 2145/2145 [02:31<00:00, 14.12it/s, v_num=25, train_loss_step=23.20, val_loss=25.20, train_loss_epoch=17.80]Train Loss (Epoch 11): 17.1061\n",
      "Epoch 12: 100%|██████████| 2145/2145 [02:15<00:00, 15.84it/s, v_num=25, train_loss_step=17.60, val_loss=25.20, train_loss_epoch=17.10]Val Loss (Epoch 12): 25.3001\n",
      "Epoch 12: 100%|██████████| 2145/2145 [02:29<00:00, 14.32it/s, v_num=25, train_loss_step=17.60, val_loss=25.30, train_loss_epoch=17.10]Train Loss (Epoch 12): 16.7620\n",
      "Epoch 13: 100%|██████████| 2145/2145 [02:26<00:00, 14.68it/s, v_num=25, train_loss_step=15.80, val_loss=25.30, train_loss_epoch=16.80]Val Loss (Epoch 13): 25.7178\n",
      "Epoch 13: 100%|██████████| 2145/2145 [02:40<00:00, 13.35it/s, v_num=25, train_loss_step=15.80, val_loss=25.70, train_loss_epoch=16.80]Train Loss (Epoch 13): 16.5751\n",
      "Epoch 14: 100%|██████████| 2145/2145 [02:18<00:00, 15.53it/s, v_num=25, train_loss_step=18.30, val_loss=25.70, train_loss_epoch=16.60]Val Loss (Epoch 14): 25.3630\n",
      "Epoch 14: 100%|██████████| 2145/2145 [02:32<00:00, 14.09it/s, v_num=25, train_loss_step=18.30, val_loss=25.40, train_loss_epoch=16.60]Train Loss (Epoch 14): 16.4035\n",
      "Epoch 15: 100%|██████████| 2145/2145 [02:23<00:00, 14.98it/s, v_num=25, train_loss_step=17.70, val_loss=25.40, train_loss_epoch=16.40]Val Loss (Epoch 15): 25.8788\n",
      "Epoch 15: 100%|██████████| 2145/2145 [02:37<00:00, 13.59it/s, v_num=25, train_loss_step=17.70, val_loss=25.90, train_loss_epoch=16.40]Train Loss (Epoch 15): 16.2103\n",
      "Epoch 15: 100%|██████████| 2145/2145 [02:39<00:00, 13.44it/s, v_num=25, train_loss_step=17.70, val_loss=25.90, train_loss_epoch=16.20]\n",
      "Best model: /Users/florianrunkel/Documents/02_Uni/04_Masterarbeit/masterthesis/backend/ml_pipe/models/tft/checkpoints/tft-optimized-epoch=05-val_loss=25.14.ckpt\n"
     ]
    },
    {
     "name": "stderr",
     "output_type": "stream",
     "text": [
      "/Library/Frameworks/Python.framework/Versions/3.12/lib/python3.12/site-packages/lightning/pytorch/utilities/parsing.py:208: Attribute 'loss' is an instance of `nn.Module` and is already saved during checkpointing. It is recommended to ignore them using `self.save_hyperparameters(ignore=['loss'])`.\n",
      "/Library/Frameworks/Python.framework/Versions/3.12/lib/python3.12/site-packages/lightning/pytorch/utilities/parsing.py:208: Attribute 'logging_metrics' is an instance of `nn.Module` and is already saved during checkpointing. It is recommended to ignore them using `self.save_hyperparameters(ignore=['logging_metrics'])`.\n",
      "GPU available: True (mps), used: True\n",
      "TPU available: False, using: 0 TPU cores\n",
      "HPU available: False, using: 0 HPUs\n",
      "/Library/Frameworks/Python.framework/Versions/3.12/lib/python3.12/site-packages/lightning/pytorch/trainer/connectors/data_connector.py:419: Consider setting `persistent_workers=True` in 'predict_dataloader' to speed up the dataloader worker initialization.\n"
     ]
    },
    {
     "name": "stdout",
     "output_type": "stream",
     "text": [
      "\n",
      "Final evaluation results:\n",
      "   MAE: 50.04 Tage\n",
      "   RMSE: 91.23 Tage\n",
      "Optimized model saved: ./saved_models/tft_optimized_20250808_122135.ckpt\n"
     ]
    }
   ],
   "source": [
    "import random\n",
    "import torch\n",
    "from pytorch_forecasting import TemporalFusionTransformer, QuantileLoss\n",
    "from pytorch_forecasting.metrics import MAE, RMSE\n",
    "from lightning.pytorch import Trainer\n",
    "from lightning.pytorch.callbacks import EarlyStopping, LearningRateMonitor, ModelCheckpoint\n",
    "from lightning.pytorch.loggers import TensorBoardLogger\n",
    "import os\n",
    "from datetime import datetime\n",
    "\n",
    "def optimize_hyperparameters(datamodule, n_trials=10, max_epochs_per_trial=5):\n",
    "    print(\"Start hyperparameter optimization...\")\n",
    "    print(f\"Count of Trials: {n_trials}\")\n",
    "\n",
    "    results = []\n",
    "\n",
    "    # Parameter-Ranges definieren\n",
    "    param_ranges = {\n",
    "        'learning_rate': [0.001, 0.005, 0.01, 0.05, 0.1],\n",
    "        'hidden_size': [16, 32, 64, 128],\n",
    "        'attention_head_size': [2, 4, 8],\n",
    "        'dropout': [0.05, 0.1, 0.2, 0.3],\n",
    "        'hidden_continuous_size': [8, 16, 32]\n",
    "    }\n",
    "\n",
    "    for trial in range(n_trials):\n",
    "        print(f\"\\nTrial {trial + 1}/{n_trials}\")\n",
    "\n",
    "        # Zufällige Parameter auswählen\n",
    "        params = {\n",
    "            'learning_rate': random.choice(param_ranges['learning_rate']),\n",
    "            'hidden_size': random.choice(param_ranges['hidden_size']),\n",
    "            'attention_head_size': random.choice(param_ranges['attention_head_size']),\n",
    "            'dropout': random.choice(param_ranges['dropout']),\n",
    "            'hidden_continuous_size': random.choice(param_ranges['hidden_continuous_size']),\n",
    "            'output_size': 7  # Fix\n",
    "        }\n",
    "\n",
    "        print(f\"Parameter: {params}\")\n",
    "\n",
    "        try:\n",
    "            # Modell mit aktuellen Parametern erstellen\n",
    "            model = TemporalFusionTransformer.from_dataset(\n",
    "                datamodule.training_dataset,\n",
    "                loss=QuantileLoss(),\n",
    "                log_interval=10,\n",
    "                reduce_on_plateau_patience=4,\n",
    "                **params\n",
    "            )\n",
    "\n",
    "            # Kurzes Training für Evaluation\n",
    "            trainer = Trainer(\n",
    "                max_epochs=max_epochs_per_trial,\n",
    "                accelerator=\"cpu\",  # CPU für Konsistenz\n",
    "                devices=1,\n",
    "                enable_checkpointing=False,\n",
    "                enable_progress_bar=False,\n",
    "                logger=False,\n",
    "            )\n",
    "\n",
    "            # Training\n",
    "            trainer.fit(\n",
    "                model,\n",
    "                train_dataloaders=datamodule.train_dataloader(),\n",
    "                val_dataloaders=datamodule.val_dataloader(),\n",
    "            )\n",
    "            # Validation Loss abrufen\n",
    "            val_loss = trainer.validate(model, dataloaders=datamodule.val_dataloader())[0]['val_loss']\n",
    "\n",
    "            results.append({\n",
    "                'trial': trial + 1,\n",
    "                'params': params,\n",
    "                'val_loss': val_loss\n",
    "            })\n",
    "\n",
    "            print(f\"Trial {trial + 1} - Val Loss: {val_loss:.4f}\")\n",
    "\n",
    "        except Exception as e:\n",
    "            print(f\"Trial {trial + 1} failed: {e}\")\n",
    "            results.append({\n",
    "                'trial': trial + 1,\n",
    "                'params': params,\n",
    "                'val_loss': float('inf')\n",
    "            })\n",
    "    # Beste Parameter finden\n",
    "    best_result = min(results, key=lambda x: x['val_loss'])\n",
    "    best_params = best_result['params']\n",
    "    best_score = best_result['val_loss']\n",
    "\n",
    "    print(f\"\\nOptimization completed!\")\n",
    "    print(f\"Best parameters: {best_params}\")\n",
    "    print(f\"Best score: {best_score:.4f}\")\n",
    "\n",
    "    return best_params, results\n",
    "\n",
    "def run_pipeline():\n",
    "    print(\"Start optimized TFT pipeline...\")\n",
    "\n",
    "    # 1. Daten laden\n",
    "    print(\"Load data from MongoDB...\")\n",
    "    df = load_and_filter_labels_from_mongodb()\n",
    "\n",
    "    datamodule = DataModule(df)\n",
    "    datamodule.setup()\n",
    "    print(f\"Training: {len(datamodule.training)}\")\n",
    "    print(f\"Validation: {len(datamodule.validation)}\")\n",
    "\n",
    "    # 2. Hyperparameter-Optimierung\n",
    "    best_params, optimization_results = optimize_hyperparameters(datamodule, n_trials=10, max_epochs_per_trial=5)\n",
    "\n",
    "    # 3. Training mit besten Parametern\n",
    "    print(f\"\\nTraining with best parameters: {best_params}\")\n",
    "\n",
    "    model = TemporalFusionTransformer.from_dataset(\n",
    "        datamodule.training_dataset,\n",
    "        loss=QuantileLoss(),\n",
    "        log_interval=10,\n",
    "        reduce_on_plateau_patience=4,\n",
    "        **best_params\n",
    "    )\n",
    "    print(f\"Number of parameters in network: {model.size()/1e3:.1f}k\")\n",
    "\n",
    "    # Callbacks\n",
    "    lr_logger = LearningRateMonitor()\n",
    "    checkpoint_callback = ModelCheckpoint(\n",
    "        monitor=\"val_loss\",\n",
    "        dirpath=\"checkpoints\",\n",
    "        filename=\"tft-optimized-{epoch:02d}-{val_loss:.2f}\",\n",
    "        save_top_k=1,\n",
    "        mode=\"min\",\n",
    "    )\n",
    "    early_stopping = EarlyStopping(\n",
    "        monitor=\"val_loss\",\n",
    "        patience=10,\n",
    "        mode=\"min\"\n",
    "    )\n",
    "\n",
    "    # Trainer\n",
    "    trainer = Trainer(\n",
    "        max_epochs=50,\n",
    "        accelerator=\"gpu\" if torch.cuda.is_available() else \"cpu\",\n",
    "        devices=1,\n",
    "        gradient_clip_val=0.1,\n",
    "        log_every_n_steps=10,\n",
    "        enable_checkpointing=True,\n",
    "        callbacks=[lr_logger, checkpoint_callback, early_stopping, PrintLossCallback()],\n",
    "        logger=TensorBoardLogger(save_dir=\"logs\"),\n",
    "        deterministic=True,\n",
    "    )\n",
    "\n",
    "    # Training\n",
    "    print(\"Start training with optimized parameters...\")\n",
    "    trainer.fit(\n",
    "        model,\n",
    "        train_dataloaders=datamodule.train_dataloader(),\n",
    "        val_dataloaders=datamodule.val_dataloader(),\n",
    "    )\n",
    "    # Evaluation\n",
    "    best_model_path = checkpoint_callback.best_model_path\n",
    "    print(f\"Best model: {best_model_path}\")\n",
    "\n",
    "    best_model = TemporalFusionTransformer.load_from_checkpoint(best_model_path)\n",
    "\n",
    "    # Evaluation auf Validierungsdaten\n",
    "    val_dataloader = datamodule.val_dataloader()\n",
    "    actuals = torch.cat([y[0] for x, y in iter(val_dataloader)])\n",
    "    predictions = best_model.predict(val_dataloader)\n",
    "    actuals = actuals.to(predictions.device)\n",
    "\n",
    "    # Metriken\n",
    "    mae_metric = MAE().to(predictions.device)\n",
    "    rmse_metric = RMSE().to(predictions.device)\n",
    "    mae = mae_metric(predictions, actuals)\n",
    "    rmse = rmse_metric(predictions, actuals)\n",
    "\n",
    "    print(f\"\\nFinal evaluation results:\")\n",
    "    print(f\"   MAE: {mae:.2f} Tage\")\n",
    "    print(f\"   RMSE: {rmse:.2f} Tage\")\n",
    "\n",
    "    # Modell speichern\n",
    "    timestamp = datetime.now().strftime(\"%Y%m%d_%H%M%S\")\n",
    "    model_path = f\"./saved_models/tft_optimized_{timestamp}.ckpt\"\n",
    "    os.makedirs(os.path.dirname(model_path), exist_ok=True)\n",
    "    trainer.save_checkpoint(model_path)\n",
    "    print(f\"Optimized model saved: {model_path}\")\n",
    "    return best_model, trainer, optimization_results\n",
    "\n",
    "# Verwendung:\n",
    "nest_model, trainer, optimization_results = run_pipeline()"
   ]
  },
  {
   "cell_type": "code",
   "execution_count": 5,
   "metadata": {},
   "outputs": [
    {
     "name": "stderr",
     "output_type": "stream",
     "text": [
      "INFO:tensorboard:No path found after logs/lightning_logs/version_25/events.out.tfevents.1754645962.Laptop-von-Florian.fritz.box.68067.0\n"
     ]
    },
    {
     "data": {
      "image/png": "[encoded data removed]",
      "text/plain": [
       "<Figure size 800x500 with 1 Axes>"
      ]
     },
     "metadata": {},
     "output_type": "display_data"
    }
   ],
   "source": [
    "from tensorboard.backend.event_processing import event_accumulator\n",
    "import matplotlib.pyplot as plt\n",
    "\n",
    "# EventAccumulator initialisieren und laden\n",
    "ea = event_accumulator.EventAccumulator(trainer.logger.log_dir)\n",
    "ea.Reload()\n",
    "\n",
    "# Die richtigen Keys für die Losses\n",
    "val_loss = ea.Scalars('val_loss')\n",
    "train_loss = ea.Scalars('train_loss_epoch')\n",
    "\n",
    "# Plot\n",
    "plt.figure(figsize=(8,5))\n",
    "plt.plot([x.step for x in train_loss], [x.value for x in train_loss], label='Train Loss')\n",
    "plt.plot([x.step for x in val_loss], [x.value for x in val_loss], label='Val Loss')\n",
    "plt.xlabel('Epoch')\n",
    "plt.ylabel('Loss')\n",
    "plt.title('Train Loss vs. Val Loss')\n",
    "plt.legend()\n",
    "plt.grid(True)\n",
    "plt.show()"
   ]
  },
  {
   "cell_type": "code",
   "execution_count": 6,
   "metadata": {},
   "outputs": [
    {
     "name": "stderr",
     "output_type": "stream",
     "text": [
      "INFO:tensorboard:No path found after logs/lightning_logs/version_25/events.out.tfevents.1754645962.Laptop-von-Florian.fritz.box.68067.0\n"
     ]
    },
    {
     "data": {
      "image/png": "[encoded data removed]",
      "text/plain": [
       "<Figure size 800x500 with 1 Axes>"
      ]
     },
     "metadata": {},
     "output_type": "display_data"
    }
   ],
   "source": [
    "from tensorboard.backend.event_processing import event_accumulator\n",
    "import matplotlib.pyplot as plt\n",
    "\n",
    "# EventAccumulator initialisieren und laden\n",
    "ea = event_accumulator.EventAccumulator(trainer.logger.log_dir)\n",
    "ea.Reload()\n",
    "\n",
    "# Die richtigen Keys für die Losses\n",
    "val_loss = ea.Scalars('val_loss')\n",
    "train_loss = ea.Scalars('train_loss_epoch')\n",
    "\n",
    "# Plot\n",
    "plt.figure(figsize=(8,5))\n",
    "plt.plot([x.step for x in train_loss], [x.value for x in train_loss], label='Train Loss')\n",
    "plt.plot([x.step for x in val_loss], [x.value for x in val_loss], label='Val Loss')\n",
    "plt.xlabel('Epoch')\n",
    "plt.ylabel('Loss')\n",
    "plt.title('Train Loss vs. Val Loss')\n",
    "plt.legend()\n",
    "plt.grid(True)\n",
    "plt.show()"
   ]
  },
  {
   "cell_type": "code",
   "execution_count": 7,
   "metadata": {},
   "outputs": [
    {
     "name": "stderr",
     "output_type": "stream",
     "text": [
      "INFO:tensorboard:No path found after logs/lightning_logs/version_25/events.out.tfevents.1754645962.Laptop-von-Florian.fritz.box.68067.0\n"
     ]
    },
    {
     "name": "stdout",
     "output_type": "stream",
     "text": [
      "hp_metric\n",
      "lr-Adam\n",
      "train_loss_step\n",
      "epoch\n",
      "val_loss\n",
      "val_SMAPE\n",
      "val_MAE\n",
      "val_RMSE\n",
      "val_MAPE\n",
      "train_loss_epoch\n"
     ]
    },
    {
     "data": {
      "image/png": "[encoded data removed]",
      "text/plain": [
       "<Figure size 1000x600 with 1 Axes>"
      ]
     },
     "metadata": {},
     "output_type": "display_data"
    }
   ],
   "source": [
    "from tensorboard.backend.event_processing import event_accumulator\n",
    "\n",
    "ea = event_accumulator.EventAccumulator(trainer.logger.log_dir)\n",
    "ea.Reload()\n",
    "\n",
    "for key in ea.Tags()['scalars']:\n",
    "    print(key)\n",
    "\n",
    "val_keys = [k for k in ea.Tags()['scalars'] if k.startswith('val_')]\n",
    "plt.figure(figsize=(10,6))\n",
    "for key in val_keys:\n",
    "    values = ea.Scalars(key)\n",
    "    plt.plot([x.step for x in values], [x.value for x in values], label=key)\n",
    "plt.xlabel('Epoch')\n",
    "plt.ylabel('Value')\n",
    "plt.title('Alle Validierungsmetriken')\n",
    "plt.legend()\n",
    "plt.grid(True)\n",
    "plt.show()"
   ]
  },
  {
   "cell_type": "code",
   "execution_count": 8,
   "metadata": {},
   "outputs": [
    {
     "name": "stdout",
     "output_type": "stream",
     "text": [
      "\n",
      "=== Start prediction ===\n",
      "Extracted features: 4 rows\n",
      "Career history: [{'duration': '01/03/2023 - Present', 'endDate': 'Present', 'companyInformation': {'employee_count': 515, 'activities': ['Telefonie', 'Internet', 'Vernetzung', 'Rechenzentrum', 'Glasfaser', 'Highspeed-Internet', 'Business-Internet', 'SIP-Trunk', 'Cloud-Lösungen', 'Connect-Cloud', 'Connect-LAN', 'Premium IP', 'Internet + Telefonie', 'Lösungen für Geschäftskunden'], 'name': 'M-net Telekommunikations GmbH', 'description': 'Als regionaler Telekommunikationsanbieter versorgt M-net große Teile Bayerns, den Großraum Ulm sowie weite Teile des hessischen Landkreises Main-Kinzig mit zukunftssicherer Kommunikationstechnologie.', 'industry': ['Telecommunications']}, 'description': '', 'company': 'M-net Telekommunikations GmbH', 'location': 'München, Bayern, Deutschland · Hybrid', 'position': 'Disponentin', 'startDate': '01/03/2023'}, {'duration': '01/08/2022 - 01/12/2022', 'endDate': '01/12/2022', 'companyInformation': {'employee_count': 2048, 'activities': ['HR Software', 'HR Management', 'Recruitung', 'Employee Management', 'Applicant Tracking System', 'Employee Selfservice', 'Time-Off Management', 'Cloud Software', 'Onboarding and Offboarding', 'HR Reporting', 'Performance Management', 'Payroll', 'HR', 'HR Tech', 'Human Resources'], 'name': 'Personio', 'description': \"Personio's Intelligent HR Platform helps small and medium-sized organizations unlock the power of people by making complicated, time-consuming tasks simple and efficient.\", 'industry': ['Software Development']}, 'description': '', 'company': 'Personio', 'location': 'München, Bayern, Deutschland', 'position': 'Sales Development Representative', 'startDate': '01/08/2022'}, {'duration': '01/11/2017 - 01/07/2022', 'endDate': '01/07/2022', 'companyInformation': {'employee_count': 662, 'activities': ['Scandinavian design', 'Furniture', 'Design', 'Product design', 'Retail', 'Web', 'Steelcase partner', 'Wholesale', 'B2B', 'Contract sales', 'Online', 'Digital', 'Creativity'], 'name': 'BOLIA', 'description': 'Our collection is inspired by the vivid Scandinavian nature', 'industry': ['Retail Furniture and Home Furnishings']}, 'description': '', 'company': 'Bolia.com', 'location': 'München, Bayern, Deutschland', 'position': 'Sales Consultant', 'startDate': '01/11/2017'}, {'duration': '01/10/2015 - 01/11/2017', 'endDate': '01/11/2017', 'companyInformation': {}, 'description': '', 'company': 'Pepperminds', 'location': 'München, Bayern, Deutschland', 'position': 'Senior Team Lead', 'startDate': '01/10/2015'}]\n",
      "DEBUG SABBATICAL TITLE: disponentin\n",
      "Sequences shape: torch.Size([1, 4, 23])\n",
      "Labels shape: torch.Size([1])\n",
      "Prediction DataFrame shape: (4, 27)\n",
      "Added 2 dummy timepoints. New length: 6\n",
      "Load trained model: /Users/florianrunkel/Documents/02_Uni/04_Masterarbeit/masterthesis/backend/ml_pipe/models/tft/saved_models/tft_20250805_164438.ckpt\n"
     ]
    },
    {
     "name": "stderr",
     "output_type": "stream",
     "text": [
      "/Library/Frameworks/Python.framework/Versions/3.12/lib/python3.12/site-packages/lightning/pytorch/utilities/parsing.py:208: Attribute 'loss' is an instance of `nn.Module` and is already saved during checkpointing. It is recommended to ignore them using `self.save_hyperparameters(ignore=['loss'])`.\n",
      "/Library/Frameworks/Python.framework/Versions/3.12/lib/python3.12/site-packages/lightning/pytorch/utilities/parsing.py:208: Attribute 'logging_metrics' is an instance of `nn.Module` and is already saved during checkpointing. It is recommended to ignore them using `self.save_hyperparameters(ignore=['logging_metrics'])`.\n",
      "GPU available: True (mps), used: True\n",
      "TPU available: False, using: 0 TPU cores\n",
      "HPU available: False, using: 0 HPUs\n"
     ]
    },
    {
     "name": "stdout",
     "output_type": "stream",
     "text": [
      "Make prediction...\n"
     ]
    },
    {
     "name": "stderr",
     "output_type": "stream",
     "text": [
      "/Library/Frameworks/Python.framework/Versions/3.12/lib/python3.12/site-packages/lightning/pytorch/trainer/connectors/data_connector.py:424: The 'predict_dataloader' does not have many workers which may be a bottleneck. Consider increasing the value of the `num_workers` argument` to `num_workers=7` in the `DataLoader` to improve performance.\n",
      "/Library/Frameworks/Python.framework/Versions/3.12/lib/python3.12/site-packages/pytorch_forecasting/models/base_model.py:121: UserWarning: Not all dimensions are equal for tensors shapes. Example tensor torch.Size([1, 2, 4, 4]). Returning list instead of torch.Tensor.\n",
      "  warnings.warn(\n",
      "/Library/Frameworks/Python.framework/Versions/3.12/lib/python3.12/site-packages/pytorch_forecasting/models/base_model.py:121: UserWarning: Not all dimensions are equal for tensors shapes. Example tensor torch.Size([1, 2, 4, 2]). Returning list instead of torch.Tensor.\n",
      "  warnings.warn(\n"
     ]
    },
    {
     "name": "stdout",
     "output_type": "stream",
     "text": [
      "Raw prediction: [[[0.0, 0.0, 16.099853515625, 891.6622314453125, 916.978515625, 939.0582885742188, 961.6800537109375], [0.0, 0.0, 17.00970458984375, 888.8223266601562, 913.9732666015625, 936.02734375, 959.64697265625]], [[33.71063232421875, 91.7713623046875, 174.9638671875, 937.5586547851562, 943.5932006835938, 948.8369140625, 957.7655639648438], [31.9320068359375, 91.79144287109375, 175.84857177734375, 935.3740234375, 942.7050170898438, 950.4110717773438, 961.4967651367188]], [[729.75244140625, 762.581787109375, 780.4076538085938, 830.4539184570312, 843.9400634765625, 851.5758056640625, 861.0086669921875], [707.2185668945312, 772.89013671875, 802.4800415039062, 815.603515625, 837.2194213867188, 854.458984375, 873.0745239257812]], [[780.0714111328125, 870.5175170898438, 912.9130859375, 932.337158203125, 954.3026733398438, 970.1423950195312, 991.0299072265625], [nan, nan, nan, nan, nan, nan, nan]], [[0.0, 0.0, 20.10467529296875, 893.9530029296875, 918.7333374023438, 940.32421875, 962.4887084960938], [nan, nan, nan, nan, nan, nan, nan]], [[0.0, 0.0, 20.10467529296875, 893.9530029296875, 918.7333374023438, 940.32421875, 962.4887084960938], [0.0, 0.0, 15.43426513671875, 891.2857666015625, 916.4031982421875, 939.0109252929688, 963.2214965820312]], [[0.0, 0.0, 14.76837158203125, 892.245361328125, 917.776611328125, 940.09521484375, 962.9534301757812], [0.0, 0.0, 16.02581787109375, 889.698974609375, 914.871337890625, 937.2164306640625, 961.1404418945312]]]\n",
      "Predicted days: 892.245361328125 (used quantile: 50% (Median))\n",
      "Alle Quantile (letzte Vorhersage): 0%=0.0, 10%=0.0, 25%=14.76837158203125, 50%=892.245361328125, 75%=917.776611328125, 90%=940.09521484375, 100%=962.9534301757812\n",
      "Quantile-Auswahl: Median=892.245361328125, 75%=917.776611328125, 90%=940.09521484375, 100%=962.9534301757812\n",
      "Gewähltes Quantile: 50% (Median) = 892.245361328125 Tage\n",
      "\n",
      "=== Explainable AI Analyse ===\n",
      "Calculate SHAP values...\n",
      "Die Vorhersage wurde hauptsächlich beeinflusst durch Month und Industry.\n",
      "\n",
      "LIME-Analyse wird für TFT-Modelle nicht unterstützt.\n",
      "Available SHAP explanations: 23\n",
      "Available LIME explanations: 0\n",
      "\n",
      "=== Prediction completed ===\n",
      "{'confidence': 892.245361328125, 'recommendations': ['High probability of job change in the future (> 6 months)'], 'status': 'long-term change', 'shap_explanations': [{'feature': 'Month', 'impact_percentage': 29.61830032851261, 'method': 'SHAP', 'description': 'Calendar month when the current job started'}, {'feature': 'Industry', 'impact_percentage': 14.935374993567482, 'method': 'SHAP', 'description': 'Economic sector or industry in which the candidate is currently employed'}, {'feature': 'Second Latest Previous Position Level', 'impact_percentage': 8.134840531806967, 'method': 'SHAP', 'description': 'This feature influences the prediction.'}, {'feature': 'Company Size', 'impact_percentage': 8.046180343425192, 'method': 'SHAP', 'description': 'Size of the employer, typically based on number of employees'}, {'feature': 'Latest Previous Position Industry', 'impact_percentage': 7.9829100561306445, 'method': 'SHAP', 'description': 'This feature influences the prediction.'}, {'feature': 'Second Latest Previous Position Industry', 'impact_percentage': 6.230059192921052, 'method': 'SHAP', 'description': 'This feature influences the prediction.'}, {'feature': 'Latest Previous Position Duration', 'impact_percentage': 3.0436781751869884, 'method': 'SHAP', 'description': 'This feature influences the prediction.'}, {'feature': 'Weekday', 'impact_percentage': 2.1727432282680215, 'method': 'SHAP', 'description': 'Day of the week on which the most recent job began'}, {'feature': 'Second Latest Previous Position Duration', 'impact_percentage': 1.9402189965821344, 'method': 'SHAP', 'description': 'This feature influences the prediction.'}, {'feature': 'Study Field', 'impact_percentage': 1.8024892552515226, 'method': 'SHAP', 'description': 'Academic discipline or field in which the highest degree was obtained'}, {'feature': 'Position ID', 'impact_percentage': 1.7920559772770517, 'method': 'SHAP', 'description': 'Encoded identifier for the current position type based on role taxonomy'}, {'feature': 'Position Average Duration', 'impact_percentage': 1.6739791177110699, 'method': 'SHAP', 'description': 'Average tenure observed for similar roles within the dataset'}, {'feature': 'Work Experience', 'impact_percentage': 1.6004570607411406, 'method': 'SHAP', 'description': 'This feature influences the prediction.'}, {'feature': 'Average Job Duration', 'impact_percentage': 1.582505267970213, 'method': 'SHAP', 'description': 'Average duration (in days) spent in each previous position'}, {'feature': 'Number of Jobs', 'impact_percentage': 1.5525096927467321, 'method': 'SHAP', 'description': 'Total count of distinct positions held throughout the career'}, {'feature': 'Number of Changes', 'impact_percentage': 1.3203539059446026, 'method': 'SHAP', 'description': \"Total number of job transitions across the candidate's career path\"}, {'feature': 'Position Level', 'impact_percentage': 1.2368542077210922, 'method': 'SHAP', 'description': 'Level of the current role'}, {'feature': 'Weekday', 'impact_percentage': 1.1444039451114922, 'method': 'SHAP', 'description': 'Day of the week on which the most recent job began'}, {'feature': 'Latest Previous Position Level', 'impact_percentage': 0.967126316096886, 'method': 'SHAP', 'description': 'This feature influences the prediction.'}, {'feature': 'Age Category', 'impact_percentage': 0.8926346881598308, 'method': 'SHAP', 'description': \"Categorical representation of the candidate's age group \"}, {'feature': 'Month', 'impact_percentage': 0.8242918941691311, 'method': 'SHAP', 'description': 'Calendar month when the current job started'}, {'feature': 'Weekday', 'impact_percentage': 0.7854863810828736, 'method': 'SHAP', 'description': 'Day of the week on which the most recent job began'}, {'feature': 'Month', 'impact_percentage': 0.7205464436152758, 'method': 'SHAP', 'description': 'Calendar month when the current job started'}], 'shap_summary': 'Die Vorhersage wurde hauptsächlich beeinflusst durch Month und Industry.', 'lime_explanations': [], 'lime_summary': 'LIME wird für TFT-Modelle nicht unterstützt. Verwende nur SHAP-Erklärungen.', 'llm_explanation': ''}\n"
     ]
    }
   ],
   "source": [
    "import sys\n",
    "sys.path.insert(0, '/Users/florianrunkel/Documents/02_Uni/04_Masterarbeit/masterthesis/')\n",
    "\n",
    "linkedin_data = {\"skills\":[\"Multitasking\",\"Kundenservice\",\"Interpersonelle Fähigkeiten\",\"Kaltakquise\",\"Hubspot CRM\",\"Customer-Relationship-Management (CRM)\"],\"firstName\":\"Darya\",\"lastName\":\"Chernuska\",\"profilePicture\":\"https://media.licdn.com/dms/image/v2/D4E03AQE0yuZ6cg8f4A/profile-displayphoto-shrink_100_100/profile-displayphoto-shrink_100_100/0/1670856025914?e=1749686400&v=beta&t=jI1mkiVnkD7teWPncsg8QtKAwZKB-az53_4ny7C7XvI\",\"linkedinProfile\":\"https://www.linkedin.com/in/daryachernuska\",\"education\":[{\"duration\":\"01/01/2017 - 01/01/2022\",\"institution\":\"Ludwig-Maximilians-Universität München\",\"endDate\":\"01/01/2022\",\"degree\":\"\",\"startDate\":\"01/01/2017\"}],\"providerId\":\"ACoAAD0rz_IBI0XfqqBDUscwHoFwuOqJa_c5T2I\",\"workExperience\":[{\"duration\":\"01/03/2023 - Present\",\"endDate\":\"Present\",\"companyInformation\":{\"employee_count\":515,\"activities\":[\"Telefonie\",\"Internet\",\"Vernetzung\",\"Rechenzentrum\",\"Glasfaser\",\"Highspeed-Internet\",\"Business-Internet\",\"SIP-Trunk\",\"Cloud-Lösungen\",\"Connect-Cloud\",\"Connect-LAN\",\"Premium IP\",\"Internet + Telefonie\",\"Lösungen für Geschäftskunden\"],\"name\":\"M-net Telekommunikations GmbH\",\"description\":\"Als regionaler Telekommunikationsanbieter versorgt M-net große Teile Bayerns, den Großraum Ulm sowie weite Teile des hessischen Landkreises Main-Kinzig mit zukunftssicherer Kommunikationstechnologie.\",\"industry\":[\"Telecommunications\"]},\"description\":\"\",\"company\":\"M-net Telekommunikations GmbH\",\"location\":\"München, Bayern, Deutschland · Hybrid\",\"position\":\"Disponentin\",\"startDate\":\"01/03/2023\"},{\"duration\":\"01/08/2022 - 01/12/2022\",\"endDate\":\"01/12/2022\",\"companyInformation\":{\"employee_count\":2048,\"activities\":[\"HR Software\",\"HR Management\",\"Recruitung\",\"Employee Management\",\"Applicant Tracking System\",\"Employee Selfservice\",\"Time-Off Management\",\"Cloud Software\",\"Onboarding and Offboarding\",\"HR Reporting\",\"Performance Management\",\"Payroll\",\"HR\",\"HR Tech\",\"Human Resources\"],\"name\":\"Personio\",\"description\":\"Personio's Intelligent HR Platform helps small and medium-sized organizations unlock the power of people by making complicated, time-consuming tasks simple and efficient.\",\"industry\":[\"Software Development\"]},\"description\":\"\",\"company\":\"Personio\",\"location\":\"München, Bayern, Deutschland\",\"position\":\"Sales Development Representative\",\"startDate\":\"01/08/2022\"},{\"duration\":\"01/11/2017 - 01/07/2022\",\"endDate\":\"01/07/2022\",\"companyInformation\":{\"employee_count\":662,\"activities\":[\"Scandinavian design\",\"Furniture\",\"Design\",\"Product design\",\"Retail\",\"Web\",\"Steelcase partner\",\"Wholesale\",\"B2B\",\"Contract sales\",\"Online\",\"Digital\",\"Creativity\"],\"name\":\"BOLIA\",\"description\":\"Our collection is inspired by the vivid Scandinavian nature\",\"industry\":[\"Retail Furniture and Home Furnishings\"]},\"description\":\"\",\"company\":\"Bolia.com\",\"location\":\"München, Bayern, Deutschland\",\"position\":\"Sales Consultant\",\"startDate\":\"01/11/2017\"},{\"duration\":\"01/10/2015 - 01/11/2017\",\"endDate\":\"01/11/2017\",\"companyInformation\":{},\"description\":\"\",\"company\":\"Pepperminds\",\"location\":\"München, Bayern, Deutschland\",\"position\":\"Senior Team Lead\",\"startDate\":\"01/10/2015\"}],\"location\":\"Munich, Bavaria, Germany\",\"certifications\":[],\"headline\":\"-\",\"languageSkills\":{}}\n",
    "\n",
    "from backend.ml_pipe.models.tft.predict import predict\n",
    "prediction = predict(linkedin_data)\n",
    "print(prediction)"
   ]
  }
 ],
 "metadata": {
  "kernelspec": {
   "display_name": "Python 3",
   "language": "python",
   "name": "python3"
  },
  "language_info": {
   "codemirror_mode": {
    "name": "ipython",
    "version": 3
   },
   "file_extension": ".py",
   "mimetype": "text/x-python",
   "name": "python",
   "nbconvert_exporter": "python",
   "pygments_lexer": "ipython3",
   "version": "3.12.1"
  }
 },
 "nbformat": 4,
 "nbformat_minor": 2
}
